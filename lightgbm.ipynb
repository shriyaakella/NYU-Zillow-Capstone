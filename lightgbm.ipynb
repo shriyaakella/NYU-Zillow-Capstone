{
 "cells": [
  {
   "cell_type": "markdown",
   "metadata": {},
   "source": [
    "Importing libraries and reading our preprocessed .csv files"
   ]
  },
  {
   "cell_type": "code",
   "execution_count": 46,
   "metadata": {},
   "outputs": [],
   "source": [
    "import pandas as pd\n",
    "import lightgbm as lgb\n",
    "import matplotlib\n",
    "from sklearn.model_selection import train_test_split\n",
    "\n",
    "df_search = pd.read_csv(\"~/Downloads/search_session_cleaned.csv\")\n",
    "df_user = pd.read_csv(\"~/Downloads/user_session_cleaned.csv\")"
   ]
  },
  {
   "cell_type": "markdown",
   "metadata": {},
   "source": [
    "Preprocessing so that both the dataframes have similar patterns"
   ]
  },
  {
   "cell_type": "code",
   "execution_count": 47,
   "metadata": {},
   "outputs": [
    {
     "data": {
      "text/plain": [
       "Unnamed: 0            10000\n",
       "Unnamed: 0.1          10000\n",
       "tracing_id            10000\n",
       "user_id_hash           9890\n",
       "timestamp_session      9998\n",
       "user_session_id        9986\n",
       "Dates                     1\n",
       "Time                     24\n",
       "order                    41\n",
       "zpid                 417060\n",
       "submit                    2\n",
       "fav                       2\n",
       "click                     2\n",
       "dtype: int64"
      ]
     },
     "execution_count": 47,
     "metadata": {},
     "output_type": "execute_result"
    }
   ],
   "source": [
    "df_search.nunique()"
   ]
  },
  {
   "cell_type": "code",
   "execution_count": 48,
   "metadata": {},
   "outputs": [
    {
     "data": {
      "text/plain": [
       "Unnamed: 0       492261\n",
       "Unnamed: 0.1     492261\n",
       "tracing_id       492261\n",
       "zpid_hash       1004015\n",
       "feature1           8401\n",
       "feature2           8106\n",
       "feature3           8057\n",
       "feature4           8160\n",
       "feature5           5842\n",
       "feature6           5939\n",
       "feature7           8063\n",
       "feature8           8051\n",
       "dtype: int64"
      ]
     },
     "execution_count": 48,
     "metadata": {},
     "output_type": "execute_result"
    }
   ],
   "source": [
    "df_user.nunique()"
   ]
  },
  {
   "cell_type": "markdown",
   "metadata": {},
   "source": [
    "Splitting the data into train and test. Here we are trying to ensure that our data is sorted according to the timestamp so that there is no leakage of data"
   ]
  },
  {
   "cell_type": "code",
   "execution_count": 49,
   "metadata": {},
   "outputs": [],
   "source": [
    "train_ratio = 0.7\n",
    "df_search = df_search.sort_values([\"timestamp_session\"]) \n",
    "sample = df_search[\"tracing_id\"].unique()\n",
    "split_point = int(len(sample) * train_ratio)\n",
    "train, test = sample[:split_point], sample[split_point:]\n",
    "training_data = df_search[df_search['tracing_id'].isin(train)]\n",
    "test_data = df_search[df_search['tracing_id'].isin(test)]\n"
   ]
  },
  {
   "cell_type": "markdown",
   "metadata": {},
   "source": [
    "Further preprocessing to ensure that our train and test data are in the required forms"
   ]
  },
  {
   "cell_type": "code",
   "execution_count": 50,
   "metadata": {},
   "outputs": [],
   "source": [
    "df_user.rename(columns={\"zpid_hash\": \"zpid\"}, inplace=True)"
   ]
  },
  {
   "cell_type": "code",
   "execution_count": 51,
   "metadata": {},
   "outputs": [],
   "source": [
    "df_train = pd.merge(training_data, df_user, on=[\"zpid\", \"tracing_id\"])"
   ]
  },
  {
   "cell_type": "code",
   "execution_count": 52,
   "metadata": {},
   "outputs": [],
   "source": [
    "df_test= pd.merge(test_data, df_user, on=[\"zpid\", \"tracing_id\"])"
   ]
  },
  {
   "cell_type": "code",
   "execution_count": 53,
   "metadata": {},
   "outputs": [],
   "source": [
    "# df_train.order = df_train.order.apply(lambda x:int(x))\n",
    "# df_test.order = df_test.order.apply(lambda x:int(x))"
   ]
  },
  {
   "cell_type": "code",
   "execution_count": 54,
   "metadata": {},
   "outputs": [],
   "source": [
    "tracing_id_train = df_train.groupby(\"tracing_id\")[\"tracing_id\"].count().to_numpy()\n",
    "tracing_id_test = df_test.groupby(\"tracing_id\")[\"tracing_id\"].count().to_numpy()\n"
   ]
  },
  {
   "cell_type": "code",
   "execution_count": 55,
   "metadata": {},
   "outputs": [],
   "source": [
    "X_train = df_train.copy()\n",
    "X_train.drop(columns=[\"click\", \"tracing_id\", \"user_id_hash\",\"user_id_hash\", \"timestamp_session\", \"zpid\", \"Dates\", \"order\", \"fav\", \"submit\", \"Time\"], inplace=True)\n",
    "y_train = df_train['click']"
   ]
  },
  {
   "cell_type": "code",
   "execution_count": 56,
   "metadata": {},
   "outputs": [],
   "source": [
    "X_test = df_test.copy()\n",
    "X_test.drop(columns=[\"click\", \"tracing_id\", \"user_id_hash\",\"user_id_hash\", \"timestamp_session\", \"zpid\", \"Dates\", \"order\", \"fav\", \"submit\", \"Time\"], inplace=True)\n",
    "y_test = df_test['click']"
   ]
  },
  {
   "cell_type": "code",
   "execution_count": 57,
   "metadata": {},
   "outputs": [],
   "source": [
    "X_train.drop(columns=\"user_session_id\", inplace=True)\n",
    "X_test.drop(columns=\"user_session_id\", inplace=True)"
   ]
  },
  {
   "cell_type": "code",
   "execution_count": 58,
   "metadata": {},
   "outputs": [],
   "source": [
    "X_train.drop(columns=\"Unnamed: 0.1_x\", inplace=True)\n",
    "X_train.drop(columns=\"Unnamed: 0.1_y\", inplace=True)\n",
    "X_train.drop(columns=\"Unnamed: 0_x\", inplace=True)\n",
    "X_train.drop(columns=\"Unnamed: 0_y\", inplace=True)"
   ]
  },
  {
   "cell_type": "code",
   "execution_count": 59,
   "metadata": {},
   "outputs": [],
   "source": [
    "X_test.drop(columns=\"Unnamed: 0.1_x\", inplace=True)\n",
    "X_test.drop(columns=\"Unnamed: 0.1_y\", inplace=True)\n",
    "X_test.drop(columns=\"Unnamed: 0_x\", inplace=True)\n",
    "X_test.drop(columns=\"Unnamed: 0_y\", inplace=True)"
   ]
  },
  {
   "cell_type": "code",
   "execution_count": 60,
   "metadata": {},
   "outputs": [
    {
     "data": {
      "text/html": [
       "<div>\n",
       "<style scoped>\n",
       "    .dataframe tbody tr th:only-of-type {\n",
       "        vertical-align: middle;\n",
       "    }\n",
       "\n",
       "    .dataframe tbody tr th {\n",
       "        vertical-align: top;\n",
       "    }\n",
       "\n",
       "    .dataframe thead th {\n",
       "        text-align: right;\n",
       "    }\n",
       "</style>\n",
       "<table border=\"1\" class=\"dataframe\">\n",
       "  <thead>\n",
       "    <tr style=\"text-align: right;\">\n",
       "      <th></th>\n",
       "      <th>feature1</th>\n",
       "      <th>feature2</th>\n",
       "      <th>feature3</th>\n",
       "      <th>feature4</th>\n",
       "      <th>feature5</th>\n",
       "      <th>feature6</th>\n",
       "      <th>feature7</th>\n",
       "      <th>feature8</th>\n",
       "    </tr>\n",
       "  </thead>\n",
       "  <tbody>\n",
       "    <tr>\n",
       "      <th>0</th>\n",
       "      <td>86</td>\n",
       "      <td>305</td>\n",
       "      <td>7252</td>\n",
       "      <td>8260</td>\n",
       "      <td>2621</td>\n",
       "      <td>769</td>\n",
       "      <td>43</td>\n",
       "      <td>21</td>\n",
       "    </tr>\n",
       "    <tr>\n",
       "      <th>1</th>\n",
       "      <td>86</td>\n",
       "      <td>305</td>\n",
       "      <td>7252</td>\n",
       "      <td>8260</td>\n",
       "      <td>21</td>\n",
       "      <td>155</td>\n",
       "      <td>869</td>\n",
       "      <td>21</td>\n",
       "    </tr>\n",
       "    <tr>\n",
       "      <th>2</th>\n",
       "      <td>86</td>\n",
       "      <td>5423</td>\n",
       "      <td>7252</td>\n",
       "      <td>8260</td>\n",
       "      <td>21</td>\n",
       "      <td>3180</td>\n",
       "      <td>869</td>\n",
       "      <td>738</td>\n",
       "    </tr>\n",
       "    <tr>\n",
       "      <th>3</th>\n",
       "      <td>86</td>\n",
       "      <td>305</td>\n",
       "      <td>7252</td>\n",
       "      <td>8260</td>\n",
       "      <td>2158</td>\n",
       "      <td>242</td>\n",
       "      <td>869</td>\n",
       "      <td>1563</td>\n",
       "    </tr>\n",
       "    <tr>\n",
       "      <th>4</th>\n",
       "      <td>86</td>\n",
       "      <td>305</td>\n",
       "      <td>7252</td>\n",
       "      <td>8260</td>\n",
       "      <td>357</td>\n",
       "      <td>1021</td>\n",
       "      <td>43</td>\n",
       "      <td>21</td>\n",
       "    </tr>\n",
       "    <tr>\n",
       "      <th>...</th>\n",
       "      <td>...</td>\n",
       "      <td>...</td>\n",
       "      <td>...</td>\n",
       "      <td>...</td>\n",
       "      <td>...</td>\n",
       "      <td>...</td>\n",
       "      <td>...</td>\n",
       "      <td>...</td>\n",
       "    </tr>\n",
       "    <tr>\n",
       "      <th>52198</th>\n",
       "      <td>9487</td>\n",
       "      <td>853</td>\n",
       "      <td>1550</td>\n",
       "      <td>9619</td>\n",
       "      <td>175</td>\n",
       "      <td>9</td>\n",
       "      <td>1555</td>\n",
       "      <td>1606</td>\n",
       "    </tr>\n",
       "    <tr>\n",
       "      <th>52199</th>\n",
       "      <td>9487</td>\n",
       "      <td>449</td>\n",
       "      <td>1550</td>\n",
       "      <td>9619</td>\n",
       "      <td>4</td>\n",
       "      <td>9</td>\n",
       "      <td>1555</td>\n",
       "      <td>1606</td>\n",
       "    </tr>\n",
       "    <tr>\n",
       "      <th>52200</th>\n",
       "      <td>9487</td>\n",
       "      <td>47</td>\n",
       "      <td>1550</td>\n",
       "      <td>9619</td>\n",
       "      <td>4</td>\n",
       "      <td>9</td>\n",
       "      <td>1555</td>\n",
       "      <td>1606</td>\n",
       "    </tr>\n",
       "    <tr>\n",
       "      <th>52201</th>\n",
       "      <td>9487</td>\n",
       "      <td>6363</td>\n",
       "      <td>1550</td>\n",
       "      <td>9619</td>\n",
       "      <td>4</td>\n",
       "      <td>1115</td>\n",
       "      <td>1555</td>\n",
       "      <td>1606</td>\n",
       "    </tr>\n",
       "    <tr>\n",
       "      <th>52202</th>\n",
       "      <td>512</td>\n",
       "      <td>6363</td>\n",
       "      <td>1550</td>\n",
       "      <td>9619</td>\n",
       "      <td>175</td>\n",
       "      <td>9</td>\n",
       "      <td>1555</td>\n",
       "      <td>1606</td>\n",
       "    </tr>\n",
       "  </tbody>\n",
       "</table>\n",
       "<p>52203 rows × 8 columns</p>\n",
       "</div>"
      ],
      "text/plain": [
       "       feature1  feature2  feature3  feature4  feature5  feature6  feature7  \\\n",
       "0            86       305      7252      8260      2621       769        43   \n",
       "1            86       305      7252      8260        21       155       869   \n",
       "2            86      5423      7252      8260        21      3180       869   \n",
       "3            86       305      7252      8260      2158       242       869   \n",
       "4            86       305      7252      8260       357      1021        43   \n",
       "...         ...       ...       ...       ...       ...       ...       ...   \n",
       "52198      9487       853      1550      9619       175         9      1555   \n",
       "52199      9487       449      1550      9619         4         9      1555   \n",
       "52200      9487        47      1550      9619         4         9      1555   \n",
       "52201      9487      6363      1550      9619         4      1115      1555   \n",
       "52202       512      6363      1550      9619       175         9      1555   \n",
       "\n",
       "       feature8  \n",
       "0            21  \n",
       "1            21  \n",
       "2           738  \n",
       "3          1563  \n",
       "4            21  \n",
       "...         ...  \n",
       "52198      1606  \n",
       "52199      1606  \n",
       "52200      1606  \n",
       "52201      1606  \n",
       "52202      1606  \n",
       "\n",
       "[52203 rows x 8 columns]"
      ]
     },
     "execution_count": 60,
     "metadata": {},
     "output_type": "execute_result"
    }
   ],
   "source": [
    "X_train"
   ]
  },
  {
   "cell_type": "markdown",
   "metadata": {},
   "source": [
    "We are creating LGBMRanker objects to check for ndcg and map at k = [1, 2, 5, 10, 20]"
   ]
  },
  {
   "cell_type": "code",
   "execution_count": 61,
   "metadata": {},
   "outputs": [],
   "source": [
    "ranker1 = lgb.LGBMRanker(\n",
    "                    objective=\"lambdarank\",\n",
    "                    boosting_type = \"gbdt\",\n",
    "                    n_estimators = 20,\n",
    "                    importance_type = \"gain\",\n",
    "                    metric= \"ndcg\",\n",
    "                    num_leaves = 10,\n",
    "                    learning_rate = 0.05,\n",
    "                    max_depth = -1,\n",
    "                    label_gain =[i for i in range(max(y_train.max(), y_test.max()) + 1)])"
   ]
  },
  {
   "cell_type": "code",
   "execution_count": 62,
   "metadata": {},
   "outputs": [
    {
     "name": "stdout",
     "output_type": "stream",
     "text": [
      "[1]\ttraining's ndcg@1: 0.335649\ttraining's ndcg@2: 0.3659\ttraining's ndcg@5: 0.436521\ttraining's ndcg@10: 0.49316\ttraining's ndcg@20: 0.552895\tvalid_1's ndcg@1: 0.331281\tvalid_1's ndcg@2: 0.3583\tvalid_1's ndcg@5: 0.417717\tvalid_1's ndcg@10: 0.48198\tvalid_1's ndcg@20: 0.540268\n",
      "[2]\ttraining's ndcg@1: 0.344201\ttraining's ndcg@2: 0.377531\ttraining's ndcg@5: 0.446494\ttraining's ndcg@10: 0.505315\ttraining's ndcg@20: 0.561633\tvalid_1's ndcg@1: 0.33867\tvalid_1's ndcg@2: 0.368746\tvalid_1's ndcg@5: 0.423606\tvalid_1's ndcg@10: 0.490033\tvalid_1's ndcg@20: 0.550106\n",
      "[3]\ttraining's ndcg@1: 0.359166\ttraining's ndcg@2: 0.391463\ttraining's ndcg@5: 0.456225\ttraining's ndcg@10: 0.51309\ttraining's ndcg@20: 0.570181\tvalid_1's ndcg@1: 0.341133\tvalid_1's ndcg@2: 0.378832\tvalid_1's ndcg@5: 0.434058\tvalid_1's ndcg@10: 0.495445\tvalid_1's ndcg@20: 0.555719\n",
      "[4]\ttraining's ndcg@1: 0.36077\ttraining's ndcg@2: 0.394545\ttraining's ndcg@5: 0.457167\ttraining's ndcg@10: 0.515143\ttraining's ndcg@20: 0.571405\tvalid_1's ndcg@1: 0.347291\tvalid_1's ndcg@2: 0.380753\tvalid_1's ndcg@5: 0.436912\tvalid_1's ndcg@10: 0.499359\tvalid_1's ndcg@20: 0.557115\n",
      "[5]\ttraining's ndcg@1: 0.363442\ttraining's ndcg@2: 0.397186\ttraining's ndcg@5: 0.460096\ttraining's ndcg@10: 0.51816\ttraining's ndcg@20: 0.575126\tvalid_1's ndcg@1: 0.352217\tvalid_1's ndcg@2: 0.383649\tvalid_1's ndcg@5: 0.44267\tvalid_1's ndcg@10: 0.500728\tvalid_1's ndcg@20: 0.561296\n",
      "[6]\ttraining's ndcg@1: 0.37039\ttraining's ndcg@2: 0.401055\ttraining's ndcg@5: 0.463964\ttraining's ndcg@10: 0.520842\ttraining's ndcg@20: 0.578304\tvalid_1's ndcg@1: 0.35468\tvalid_1's ndcg@2: 0.381399\tvalid_1's ndcg@5: 0.441174\tvalid_1's ndcg@10: 0.499744\tvalid_1's ndcg@20: 0.560636\n",
      "[7]\ttraining's ndcg@1: 0.373063\ttraining's ndcg@2: 0.403988\ttraining's ndcg@5: 0.467496\ttraining's ndcg@10: 0.523024\ttraining's ndcg@20: 0.579931\tvalid_1's ndcg@1: 0.348522\tvalid_1's ndcg@2: 0.377623\tvalid_1's ndcg@5: 0.438839\tvalid_1's ndcg@10: 0.500459\tvalid_1's ndcg@20: 0.558353\n",
      "[8]\ttraining's ndcg@1: 0.369856\ttraining's ndcg@2: 0.402282\ttraining's ndcg@5: 0.466341\ttraining's ndcg@10: 0.523704\ttraining's ndcg@20: 0.579737\tvalid_1's ndcg@1: 0.348522\tvalid_1's ndcg@2: 0.378877\tvalid_1's ndcg@5: 0.438173\tvalid_1's ndcg@10: 0.49976\tvalid_1's ndcg@20: 0.558352\n",
      "[9]\ttraining's ndcg@1: 0.37039\ttraining's ndcg@2: 0.404166\ttraining's ndcg@5: 0.467919\ttraining's ndcg@10: 0.524791\ttraining's ndcg@20: 0.580867\tvalid_1's ndcg@1: 0.348522\tvalid_1's ndcg@2: 0.378752\tvalid_1's ndcg@5: 0.437904\tvalid_1's ndcg@10: 0.500208\tvalid_1's ndcg@20: 0.558906\n",
      "[10]\ttraining's ndcg@1: 0.371459\ttraining's ndcg@2: 0.405855\ttraining's ndcg@5: 0.469537\ttraining's ndcg@10: 0.525406\ttraining's ndcg@20: 0.582179\tvalid_1's ndcg@1: 0.346059\tvalid_1's ndcg@2: 0.377718\tvalid_1's ndcg@5: 0.436547\tvalid_1's ndcg@10: 0.499159\tvalid_1's ndcg@20: 0.558678\n",
      "[11]\ttraining's ndcg@1: 0.375735\ttraining's ndcg@2: 0.407411\ttraining's ndcg@5: 0.472003\ttraining's ndcg@10: 0.52832\ttraining's ndcg@20: 0.584643\tvalid_1's ndcg@1: 0.342365\tvalid_1's ndcg@2: 0.377182\tvalid_1's ndcg@5: 0.43686\tvalid_1's ndcg@10: 0.497609\tvalid_1's ndcg@20: 0.558455\n",
      "[12]\ttraining's ndcg@1: 0.380545\ttraining's ndcg@2: 0.411448\ttraining's ndcg@5: 0.474644\ttraining's ndcg@10: 0.531267\ttraining's ndcg@20: 0.586845\tvalid_1's ndcg@1: 0.346059\tvalid_1's ndcg@2: 0.380826\tvalid_1's ndcg@5: 0.436016\tvalid_1's ndcg@10: 0.497123\tvalid_1's ndcg@20: 0.558533\n",
      "[13]\ttraining's ndcg@1: 0.378942\ttraining's ndcg@2: 0.410443\ttraining's ndcg@5: 0.474245\ttraining's ndcg@10: 0.532117\ttraining's ndcg@20: 0.586595\tvalid_1's ndcg@1: 0.342365\tvalid_1's ndcg@2: 0.379338\tvalid_1's ndcg@5: 0.434385\tvalid_1's ndcg@10: 0.497616\tvalid_1's ndcg@20: 0.557858\n",
      "[14]\ttraining's ndcg@1: 0.380011\ttraining's ndcg@2: 0.411098\ttraining's ndcg@5: 0.474971\ttraining's ndcg@10: 0.532604\ttraining's ndcg@20: 0.587309\tvalid_1's ndcg@1: 0.342365\tvalid_1's ndcg@2: 0.379338\tvalid_1's ndcg@5: 0.435181\tvalid_1's ndcg@10: 0.497592\tvalid_1's ndcg@20: 0.558034\n",
      "[15]\ttraining's ndcg@1: 0.38108\ttraining's ndcg@2: 0.412298\ttraining's ndcg@5: 0.477174\ttraining's ndcg@10: 0.534605\ttraining's ndcg@20: 0.58885\tvalid_1's ndcg@1: 0.342365\tvalid_1's ndcg@2: 0.379338\tvalid_1's ndcg@5: 0.435453\tvalid_1's ndcg@10: 0.495747\tvalid_1's ndcg@20: 0.558387\n",
      "[16]\ttraining's ndcg@1: 0.383752\ttraining's ndcg@2: 0.415613\ttraining's ndcg@5: 0.480116\ttraining's ndcg@10: 0.536515\ttraining's ndcg@20: 0.590661\tvalid_1's ndcg@1: 0.342365\tvalid_1's ndcg@2: 0.379939\tvalid_1's ndcg@5: 0.435523\tvalid_1's ndcg@10: 0.494079\tvalid_1's ndcg@20: 0.557853\n",
      "[17]\ttraining's ndcg@1: 0.38589\ttraining's ndcg@2: 0.417108\ttraining's ndcg@5: 0.480136\ttraining's ndcg@10: 0.536841\ttraining's ndcg@20: 0.591291\tvalid_1's ndcg@1: 0.342365\tvalid_1's ndcg@2: 0.378209\tvalid_1's ndcg@5: 0.436261\tvalid_1's ndcg@10: 0.495659\tvalid_1's ndcg@20: 0.558767\n",
      "[18]\ttraining's ndcg@1: 0.392304\ttraining's ndcg@2: 0.421018\ttraining's ndcg@5: 0.48346\ttraining's ndcg@10: 0.539101\ttraining's ndcg@20: 0.593857\tvalid_1's ndcg@1: 0.337438\tvalid_1's ndcg@2: 0.374412\tvalid_1's ndcg@5: 0.434027\tvalid_1's ndcg@10: 0.493931\tvalid_1's ndcg@20: 0.556996\n",
      "[19]\ttraining's ndcg@1: 0.393907\ttraining's ndcg@2: 0.422981\ttraining's ndcg@5: 0.485658\ttraining's ndcg@10: 0.541867\ttraining's ndcg@20: 0.595483\tvalid_1's ndcg@1: 0.343596\tvalid_1's ndcg@2: 0.379015\tvalid_1's ndcg@5: 0.434702\tvalid_1's ndcg@10: 0.49653\tvalid_1's ndcg@20: 0.560367\n",
      "[20]\ttraining's ndcg@1: 0.394441\ttraining's ndcg@2: 0.42643\ttraining's ndcg@5: 0.485646\ttraining's ndcg@10: 0.543388\ttraining's ndcg@20: 0.595705\tvalid_1's ndcg@1: 0.331281\tvalid_1's ndcg@2: 0.366399\tvalid_1's ndcg@5: 0.432087\tvalid_1's ndcg@10: 0.492712\tvalid_1's ndcg@20: 0.554574\n"
     ]
    },
    {
     "data": {
      "text/plain": [
       "LGBMRanker(importance_type='gain', label_gain=[0, 1], learning_rate=0.05,\n",
       "           metric='ndcg', n_estimators=20, num_leaves=10,\n",
       "           objective='lambdarank')"
      ]
     },
     "execution_count": 62,
     "metadata": {},
     "output_type": "execute_result"
    }
   ],
   "source": [
    "ranker1.fit(\n",
    "      X=X_train,\n",
    "      y=y_train,\n",
    "      group=tracing_id_train,\n",
    "      eval_set=[(X_train, y_train),(X_test, y_test)],\n",
    "      eval_group=[tracing_id_train,tracing_id_test],\n",
    "      eval_at=[1, 2, 5, 10, 20])"
   ]
  },
  {
   "cell_type": "code",
   "execution_count": 63,
   "metadata": {},
   "outputs": [],
   "source": [
    "ranker2 = lgb.LGBMRanker(\n",
    "                    objective=\"lambdarank\",\n",
    "                    boosting_type = \"gbdt\",\n",
    "                    n_estimators = 10,\n",
    "                    importance_type = \"gain\",\n",
    "                    metric= \"map\",\n",
    "                    num_leaves = 10,\n",
    "                    learning_rate = 0.05,\n",
    "                    max_depth = -1,\n",
    "                    label_gain =[i for i in range(max(y_train.max(), y_test.max()) + 1)])"
   ]
  },
  {
   "cell_type": "code",
   "execution_count": 64,
   "metadata": {},
   "outputs": [
    {
     "name": "stdout",
     "output_type": "stream",
     "text": [
      "[1]\ttraining's map@1: 0.335649\ttraining's map@2: 0.34046\ttraining's map@5: 0.377397\ttraining's map@10: 0.404383\ttraining's map@20: 0.429488\tvalid_1's map@1: 0.331281\tvalid_1's map@2: 0.337438\tvalid_1's map@5: 0.363411\tvalid_1's map@10: 0.393868\tvalid_1's map@20: 0.417262\n",
      "[2]\ttraining's map@1: 0.344201\ttraining's map@2: 0.351951\ttraining's map@5: 0.38652\ttraining's map@10: 0.415091\ttraining's map@20: 0.438735\tvalid_1's map@1: 0.33867\tvalid_1's map@2: 0.346367\tvalid_1's map@5: 0.369753\tvalid_1's map@10: 0.40131\tvalid_1's map@20: 0.425651\n",
      "[3]\ttraining's map@1: 0.359166\ttraining's map@2: 0.36558\ttraining's map@5: 0.396849\ttraining's map@10: 0.424355\ttraining's map@20: 0.448304\tvalid_1's map@1: 0.341133\tvalid_1's map@2: 0.355296\tvalid_1's map@5: 0.378988\tvalid_1's map@10: 0.408161\tvalid_1's map@20: 0.432578\n",
      "[4]\ttraining's map@1: 0.36077\ttraining's map@2: 0.368386\ttraining's map@5: 0.398166\ttraining's map@10: 0.426306\ttraining's map@20: 0.449867\tvalid_1's map@1: 0.347291\tvalid_1's map@2: 0.357451\tvalid_1's map@5: 0.382505\tvalid_1's map@10: 0.411861\tvalid_1's map@20: 0.435263\n",
      "[5]\ttraining's map@1: 0.363442\ttraining's map@2: 0.371459\ttraining's map@5: 0.401035\ttraining's map@10: 0.429037\ttraining's map@20: 0.453093\tvalid_1's map@1: 0.352217\tvalid_1's map@2: 0.360837\tvalid_1's map@5: 0.387447\tvalid_1's map@10: 0.415346\tvalid_1's map@20: 0.439561\n",
      "[6]\ttraining's map@1: 0.37039\ttraining's map@2: 0.375869\ttraining's map@5: 0.405201\ttraining's map@10: 0.432644\ttraining's map@20: 0.456818\tvalid_1's map@1: 0.35468\tvalid_1's map@2: 0.359606\tvalid_1's map@5: 0.386247\tvalid_1's map@10: 0.414007\tvalid_1's map@20: 0.438359\n",
      "[7]\ttraining's map@1: 0.373063\ttraining's map@2: 0.378274\ttraining's map@5: 0.407732\ttraining's map@10: 0.434443\ttraining's map@20: 0.458664\tvalid_1's map@1: 0.348522\tvalid_1's map@2: 0.356219\tvalid_1's map@5: 0.383572\tvalid_1's map@10: 0.411964\tvalid_1's map@20: 0.435801\n",
      "[8]\ttraining's map@1: 0.369856\ttraining's map@2: 0.376403\ttraining's map@5: 0.406763\ttraining's map@10: 0.434411\ttraining's map@20: 0.45827\tvalid_1's map@1: 0.348522\tvalid_1's map@2: 0.356527\tvalid_1's map@5: 0.38327\tvalid_1's map@10: 0.411363\tvalid_1's map@20: 0.435423\n",
      "[9]\ttraining's map@1: 0.37039\ttraining's map@2: 0.378006\ttraining's map@5: 0.407923\ttraining's map@10: 0.435406\ttraining's map@20: 0.459378\tvalid_1's map@1: 0.348522\tvalid_1's map@2: 0.356527\tvalid_1's map@5: 0.383129\tvalid_1's map@10: 0.411823\tvalid_1's map@20: 0.43584\n",
      "[10]\ttraining's map@1: 0.371459\ttraining's map@2: 0.37961\ttraining's map@5: 0.409418\ttraining's map@10: 0.436441\ttraining's map@20: 0.460653\tvalid_1's map@1: 0.346059\tvalid_1's map@2: 0.355603\tvalid_1's map@5: 0.382124\tvalid_1's map@10: 0.410865\tvalid_1's map@20: 0.435046\n"
     ]
    },
    {
     "data": {
      "text/plain": [
       "LGBMRanker(importance_type='gain', label_gain=[0, 1], learning_rate=0.05,\n",
       "           metric='map', n_estimators=10, num_leaves=10,\n",
       "           objective='lambdarank')"
      ]
     },
     "execution_count": 64,
     "metadata": {},
     "output_type": "execute_result"
    }
   ],
   "source": [
    "ranker2.fit(\n",
    "      X=X_train,\n",
    "      y=y_train,\n",
    "      group=tracing_id_train,\n",
    "      eval_set=[(X_train, y_train),(X_test, y_test)],\n",
    "      eval_group=[tracing_id_train, tracing_id_test],\n",
    "      eval_at=[1, 2, 5, 10, 20])"
   ]
  },
  {
   "cell_type": "markdown",
   "metadata": {},
   "source": [
    "Visualising the future importance of the data"
   ]
  },
  {
   "cell_type": "code",
   "execution_count": 65,
   "metadata": {},
   "outputs": [
    {
     "data": {
      "text/plain": [
       "<AxesSubplot:title={'center':'Feature importance'}, xlabel='Feature importance', ylabel='Features'>"
      ]
     },
     "execution_count": 65,
     "metadata": {},
     "output_type": "execute_result"
    },
    {
     "data": {
      "image/png": "[encoded data removed]",
      "text/plain": [
       "<Figure size 1200x800 with 1 Axes>"
      ]
     },
     "metadata": {},
     "output_type": "display_data"
    }
   ],
   "source": [
    "lgb.plot_importance(ranker1, figsize = (12,8))"
   ]
  },
  {
   "cell_type": "code",
   "execution_count": 66,
   "metadata": {},
   "outputs": [
    {
     "data": {
      "text/plain": [
       "<AxesSubplot:title={'center':'Feature importance'}, xlabel='Feature importance', ylabel='Features'>"
      ]
     },
     "execution_count": 66,
     "metadata": {},
     "output_type": "execute_result"
    },
    {
     "data": {
      "image/png": "[encoded data removed]",
      "text/plain": [
       "<Figure size 1200x800 with 1 Axes>"
      ]
     },
     "metadata": {},
     "output_type": "display_data"
    }
   ],
   "source": [
    "lgb.plot_importance(ranker2, figsize = (12,8))"
   ]
  }
 ],
 "metadata": {
  "kernelspec": {
   "display_name": "base",
   "language": "python",
   "name": "python3"
  },
  "language_info": {
   "codemirror_mode": {
    "name": "ipython",
    "version": 3
   },
   "file_extension": ".py",
   "mimetype": "text/x-python",
   "name": "python",
   "nbconvert_exporter": "python",
   "pygments_lexer": "ipython3",
   "version": "3.7.13 (default, Mar 28 2022, 07:24:34) \n[Clang 12.0.0 ]"
  },
  "orig_nbformat": 4,
  "vscode": {
   "interpreter": {
    "hash": "366e4047813b03767718a7fd78e09fef2d054ff6a009ab48d997ca38b2f6b8d4"
   }
  }
 },
 "nbformat": 4,
 "nbformat_minor": 2
}
