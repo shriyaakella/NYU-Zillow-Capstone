{
 "cells": [
  {
   "cell_type": "markdown",
   "metadata": {},
   "source": [
    "# Baseline"
   ]
  },
  {
   "cell_type": "code",
   "execution_count": 41,
   "metadata": {},
   "outputs": [],
   "source": [
    "import pandas as pd\n",
    "import numpy as np"
   ]
  },
  {
   "cell_type": "code",
   "execution_count": 42,
   "metadata": {},
   "outputs": [],
   "source": [
    "def ndcg_func(x,y):\n",
    "    return (1/np.log(x+2))/(1/np.log(1+y))"
   ]
  },
  {
   "cell_type": "code",
   "execution_count": 43,
   "metadata": {},
   "outputs": [],
   "source": [
    "df = pd.read_csv(\"final.csv\")\n",
    "df['zpid'] = df['zpid'].apply(lambda x: x.lstrip(\" \") )"
   ]
  },
  {
   "cell_type": "code",
   "execution_count": 44,
   "metadata": {},
   "outputs": [
    {
     "data": {
      "text/plain": [
       "Index(['Unnamed: 0', 'tracing_id', 'user_id_hash', 'timestamp_session',\n",
       "       'impressions', 'user_session_id', 'Dates', 'Time', 'order', 'zpid',\n",
       "       'submit', 'fav', 'click'],\n",
       "      dtype='object')"
      ]
     },
     "execution_count": 44,
     "metadata": {},
     "output_type": "execute_result"
    }
   ],
   "source": [
    "df.columns"
   ]
  },
  {
   "cell_type": "code",
   "execution_count": 45,
   "metadata": {},
   "outputs": [],
   "source": [
    "df_copy = df\n",
    "df_copy = df_copy[df_copy[\"click\"]==1]\n",
    "df_copy = df_copy[df_copy[\"order\"]!= \"None\"]\n",
    "df_copy['order'] = df_copy['order'].apply(lambda x: float(x))\n",
    "df_copy[\"click_position\"] = df_copy.groupby([\"tracing_id\"])[\"Time\"].rank(method='first')"
   ]
  },
  {
   "cell_type": "markdown",
   "metadata": {},
   "source": [
    "nDCG"
   ]
  },
  {
   "cell_type": "code",
   "execution_count": 46,
   "metadata": {},
   "outputs": [],
   "source": [
    "df_ndcg_1 = df_copy.loc[df_copy['click_position'] <= 1]\n",
    "df_ndcg_2 = df_copy.loc[df_copy['click_position'] <= 2]\n",
    "df_ndcg_5 = df_copy.loc[df_copy['click_position'] <= 5]\n",
    "df_ndcg_10 = df_copy.loc[df_copy['click_position'] <= 10]\n",
    "df_ndcg_20 = df_copy.loc[df_copy['click_position'] <= 20]"
   ]
  },
  {
   "cell_type": "code",
   "execution_count": null,
   "metadata": {},
   "outputs": [],
   "source": [
    "df_ndcg_1.loc[:,\"ndcg\"] = df_ndcg_1.apply(lambda x: ndcg_func(x.order, x.click_position), axis=1)\n",
    "df_ndcg_2.loc[:,\"ndcg\"] = df_ndcg_2.apply(lambda x: ndcg_func(x.order, x.click_position), axis=1)\n",
    "df_ndcg_5.loc[:,\"ndcg\"] = df_ndcg_5.apply(lambda x: ndcg_func(x.order, x.click_position), axis=1)\n",
    "df_ndcg_10.loc[:,\"ndcg\"] = df_ndcg_10.apply(lambda x: ndcg_func(x.order, x.click_position), axis=1)\n",
    "df_ndcg_20.loc[:,\"ndcg\"] = df_ndcg_20.apply(lambda x: ndcg_func(x.order, x.click_position), axis=1)"
   ]
  },
  {
   "cell_type": "code",
   "execution_count": 48,
   "metadata": {},
   "outputs": [],
   "source": [
    "df_ndcg_1 = df_ndcg_1.groupby(\"user_session_id\")['ndcg'].mean()\n",
    "df_ndcg_2 = df_ndcg_2.groupby(\"user_session_id\")['ndcg'].mean()\n",
    "df_ndcg_5 = df_ndcg_5.groupby(\"user_session_id\")['ndcg'].mean()\n",
    "df_ndcg_10 = df_ndcg_10.groupby(\"user_session_id\")['ndcg'].mean()\n",
    "df_ndcg_20 = df_ndcg_20.groupby(\"user_session_id\")['ndcg'].mean()"
   ]
  },
  {
   "cell_type": "code",
   "execution_count": 49,
   "metadata": {},
   "outputs": [
    {
     "name": "stdout",
     "output_type": "stream",
     "text": [
      "0.5604123683414143\n",
      "0.5604112440031735\n",
      "0.5609040850396567\n",
      "0.5679968247040262\n",
      "0.5836045662133186\n"
     ]
    }
   ],
   "source": [
    "print(df_ndcg_20.mean())\n",
    "print(df_ndcg_10.mean())\n",
    "print(df_ndcg_5.mean())\n",
    "print(df_ndcg_2.mean())\n",
    "print(df_ndcg_1.mean())"
   ]
  },
  {
   "cell_type": "markdown",
   "metadata": {},
   "source": [
    "mAP@k"
   ]
  },
  {
   "cell_type": "code",
   "execution_count": 50,
   "metadata": {},
   "outputs": [],
   "source": [
    "df_precision, df_mmr = df_copy.copy(), df_copy.copy()"
   ]
  },
  {
   "cell_type": "code",
   "execution_count": 51,
   "metadata": {},
   "outputs": [
    {
     "name": "stdout",
     "output_type": "stream",
     "text": [
      "0.39452420330835103\n"
     ]
    }
   ],
   "source": [
    "df_precision[\"precision@k\"] = df_precision.apply(lambda x: x.click_position/(x.order + 1), axis=1)\n",
    "df_precision = df_precision.groupby(\"tracing_id\")['precision@k'].mean()\n",
    "print(df_precision.mean())"
   ]
  },
  {
   "cell_type": "markdown",
   "metadata": {},
   "source": [
    "MRR"
   ]
  },
  {
   "cell_type": "code",
   "execution_count": 52,
   "metadata": {},
   "outputs": [
    {
     "name": "stdout",
     "output_type": "stream",
     "text": [
      "0.46536254667501953\n"
     ]
    }
   ],
   "source": [
    "df_mmr = df_mmr.groupby(\"tracing_id\")[\"order\"].min().to_frame().reset_index()\n",
    "df_mmr[\"rank\"] = df_mmr[\"order\"].apply(lambda x: 1/(x+1))\n",
    "print(df_mmr[\"rank\"].mean())"
   ]
  }
 ],
 "metadata": {
  "interpreter": {
   "hash": "b0fa6594d8f4cbf19f97940f81e996739fb7646882a419484c72d19e05852a7e"
  },
  "kernelspec": {
   "display_name": "Python 3",
   "language": "python",
   "name": "python3"
  },
  "language_info": {
   "codemirror_mode": {
    "name": "ipython",
    "version": 3
   },
   "file_extension": ".py",
   "mimetype": "text/x-python",
   "name": "python",
   "nbconvert_exporter": "python",
   "pygments_lexer": "ipython3",
   "version": "3.9.13"
  }
 },
 "nbformat": 4,
 "nbformat_minor": 2
}
