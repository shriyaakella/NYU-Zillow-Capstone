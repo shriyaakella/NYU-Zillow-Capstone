{
 "cells": [
  {
   "cell_type": "code",
   "execution_count": 1,
   "metadata": {},
   "outputs": [],
   "source": [
    "import pandas as pd\n",
    "import numpy as np\n",
    "import seaborn as sns\n",
    "import matplotlib.pyplot as plt\n",
    "import squarify"
   ]
  },
  {
   "cell_type": "code",
   "execution_count": 3,
   "metadata": {},
   "outputs": [],
   "source": [
    "df = pd.read_csv(\"~/Downloads/search_session_cleaned.csv\")"
   ]
  },
  {
   "cell_type": "code",
   "execution_count": 6,
   "metadata": {},
   "outputs": [],
   "source": [
    "df.drop([\"Unnamed: 0.1\", \"Unnamed: 0\"], inplace=True, axis=1)"
   ]
  },
  {
   "cell_type": "code",
   "execution_count": 7,
   "metadata": {},
   "outputs": [
    {
     "data": {
      "text/html": [
       "<div>\n",
       "<style scoped>\n",
       "    .dataframe tbody tr th:only-of-type {\n",
       "        vertical-align: middle;\n",
       "    }\n",
       "\n",
       "    .dataframe tbody tr th {\n",
       "        vertical-align: top;\n",
       "    }\n",
       "\n",
       "    .dataframe thead th {\n",
       "        text-align: right;\n",
       "    }\n",
       "</style>\n",
       "<table border=\"1\" class=\"dataframe\">\n",
       "  <thead>\n",
       "    <tr style=\"text-align: right;\">\n",
       "      <th></th>\n",
       "      <th>tracing_id</th>\n",
       "      <th>user_id_hash</th>\n",
       "      <th>timestamp_session</th>\n",
       "      <th>user_session_id</th>\n",
       "      <th>Dates</th>\n",
       "      <th>Time</th>\n",
       "      <th>order</th>\n",
       "      <th>zpid</th>\n",
       "      <th>submit</th>\n",
       "      <th>fav</th>\n",
       "      <th>click</th>\n",
       "    </tr>\n",
       "  </thead>\n",
       "  <tbody>\n",
       "    <tr>\n",
       "      <th>0</th>\n",
       "      <td>62caca18366e2e4c0d6c602c33a052f3</td>\n",
       "      <td>c6ded54a3df59cd72f728b821b45a5c30020ccb2</td>\n",
       "      <td>2022-07-10 12:46:16.232</td>\n",
       "      <td>2d333ac242f846ebbd76cd7d04def83a_2022_07_10_12_1</td>\n",
       "      <td>2022-07-10</td>\n",
       "      <td>12</td>\n",
       "      <td>None</td>\n",
       "      <td>025f47cb03bfc749833b60781fe838b052c99b16</td>\n",
       "      <td>0</td>\n",
       "      <td>0</td>\n",
       "      <td>0</td>\n",
       "    </tr>\n",
       "    <tr>\n",
       "      <th>1</th>\n",
       "      <td>62caca18366e2e4c0d6c602c33a052f3</td>\n",
       "      <td>c6ded54a3df59cd72f728b821b45a5c30020ccb2</td>\n",
       "      <td>2022-07-10 12:46:16.232</td>\n",
       "      <td>2d333ac242f846ebbd76cd7d04def83a_2022_07_10_12_1</td>\n",
       "      <td>2022-07-10</td>\n",
       "      <td>12</td>\n",
       "      <td>None</td>\n",
       "      <td>03b67c2d5a08940a83183bc9aa65a4a361984712</td>\n",
       "      <td>0</td>\n",
       "      <td>0</td>\n",
       "      <td>0</td>\n",
       "    </tr>\n",
       "    <tr>\n",
       "      <th>2</th>\n",
       "      <td>62caca18366e2e4c0d6c602c33a052f3</td>\n",
       "      <td>c6ded54a3df59cd72f728b821b45a5c30020ccb2</td>\n",
       "      <td>2022-07-10 12:46:16.232</td>\n",
       "      <td>2d333ac242f846ebbd76cd7d04def83a_2022_07_10_12_1</td>\n",
       "      <td>2022-07-10</td>\n",
       "      <td>12</td>\n",
       "      <td>None</td>\n",
       "      <td>04556d1bfec79bb20b0a601f3926d2aee75add55</td>\n",
       "      <td>0</td>\n",
       "      <td>0</td>\n",
       "      <td>0</td>\n",
       "    </tr>\n",
       "    <tr>\n",
       "      <th>3</th>\n",
       "      <td>62caca18366e2e4c0d6c602c33a052f3</td>\n",
       "      <td>c6ded54a3df59cd72f728b821b45a5c30020ccb2</td>\n",
       "      <td>2022-07-10 12:46:16.232</td>\n",
       "      <td>2d333ac242f846ebbd76cd7d04def83a_2022_07_10_12_1</td>\n",
       "      <td>2022-07-10</td>\n",
       "      <td>12</td>\n",
       "      <td>None</td>\n",
       "      <td>0853b34b7ae52feee8d093532c520ae4c183dbce</td>\n",
       "      <td>0</td>\n",
       "      <td>0</td>\n",
       "      <td>0</td>\n",
       "    </tr>\n",
       "    <tr>\n",
       "      <th>4</th>\n",
       "      <td>62caca18366e2e4c0d6c602c33a052f3</td>\n",
       "      <td>c6ded54a3df59cd72f728b821b45a5c30020ccb2</td>\n",
       "      <td>2022-07-10 12:46:16.232</td>\n",
       "      <td>2d333ac242f846ebbd76cd7d04def83a_2022_07_10_12_1</td>\n",
       "      <td>2022-07-10</td>\n",
       "      <td>12</td>\n",
       "      <td>None</td>\n",
       "      <td>10c21ad82ae54a63878656578c081c6ea508b88e</td>\n",
       "      <td>0</td>\n",
       "      <td>0</td>\n",
       "      <td>0</td>\n",
       "    </tr>\n",
       "    <tr>\n",
       "      <th>5</th>\n",
       "      <td>62caca18366e2e4c0d6c602c33a052f3</td>\n",
       "      <td>c6ded54a3df59cd72f728b821b45a5c30020ccb2</td>\n",
       "      <td>2022-07-10 12:46:16.232</td>\n",
       "      <td>2d333ac242f846ebbd76cd7d04def83a_2022_07_10_12_1</td>\n",
       "      <td>2022-07-10</td>\n",
       "      <td>12</td>\n",
       "      <td>None</td>\n",
       "      <td>1189321cd477259c398679d845c24a04f759f042</td>\n",
       "      <td>0</td>\n",
       "      <td>0</td>\n",
       "      <td>0</td>\n",
       "    </tr>\n",
       "    <tr>\n",
       "      <th>6</th>\n",
       "      <td>62caca18366e2e4c0d6c602c33a052f3</td>\n",
       "      <td>c6ded54a3df59cd72f728b821b45a5c30020ccb2</td>\n",
       "      <td>2022-07-10 12:46:16.232</td>\n",
       "      <td>2d333ac242f846ebbd76cd7d04def83a_2022_07_10_12_1</td>\n",
       "      <td>2022-07-10</td>\n",
       "      <td>12</td>\n",
       "      <td>None</td>\n",
       "      <td>135cacaacf7158c74b859ed1e67b627755ef68f6</td>\n",
       "      <td>0</td>\n",
       "      <td>0</td>\n",
       "      <td>0</td>\n",
       "    </tr>\n",
       "    <tr>\n",
       "      <th>7</th>\n",
       "      <td>62caca18366e2e4c0d6c602c33a052f3</td>\n",
       "      <td>c6ded54a3df59cd72f728b821b45a5c30020ccb2</td>\n",
       "      <td>2022-07-10 12:46:16.232</td>\n",
       "      <td>2d333ac242f846ebbd76cd7d04def83a_2022_07_10_12_1</td>\n",
       "      <td>2022-07-10</td>\n",
       "      <td>12</td>\n",
       "      <td>None</td>\n",
       "      <td>13e7f9ad3ac6ec31aaeecfd0e9b54b6e8734c218</td>\n",
       "      <td>0</td>\n",
       "      <td>0</td>\n",
       "      <td>0</td>\n",
       "    </tr>\n",
       "    <tr>\n",
       "      <th>8</th>\n",
       "      <td>62caca18366e2e4c0d6c602c33a052f3</td>\n",
       "      <td>c6ded54a3df59cd72f728b821b45a5c30020ccb2</td>\n",
       "      <td>2022-07-10 12:46:16.232</td>\n",
       "      <td>2d333ac242f846ebbd76cd7d04def83a_2022_07_10_12_1</td>\n",
       "      <td>2022-07-10</td>\n",
       "      <td>12</td>\n",
       "      <td>None</td>\n",
       "      <td>15d8abef4fe85ae89e71f361705e8a2a4e607f27</td>\n",
       "      <td>0</td>\n",
       "      <td>0</td>\n",
       "      <td>0</td>\n",
       "    </tr>\n",
       "    <tr>\n",
       "      <th>9</th>\n",
       "      <td>62caca18366e2e4c0d6c602c33a052f3</td>\n",
       "      <td>c6ded54a3df59cd72f728b821b45a5c30020ccb2</td>\n",
       "      <td>2022-07-10 12:46:16.232</td>\n",
       "      <td>2d333ac242f846ebbd76cd7d04def83a_2022_07_10_12_1</td>\n",
       "      <td>2022-07-10</td>\n",
       "      <td>12</td>\n",
       "      <td>None</td>\n",
       "      <td>18709eef87665b41fe49ca26e8e33efa3c4b7548</td>\n",
       "      <td>0</td>\n",
       "      <td>0</td>\n",
       "      <td>0</td>\n",
       "    </tr>\n",
       "  </tbody>\n",
       "</table>\n",
       "</div>"
      ],
      "text/plain": [
       "                         tracing_id                              user_id_hash  \\\n",
       "0  62caca18366e2e4c0d6c602c33a052f3  c6ded54a3df59cd72f728b821b45a5c30020ccb2   \n",
       "1  62caca18366e2e4c0d6c602c33a052f3  c6ded54a3df59cd72f728b821b45a5c30020ccb2   \n",
       "2  62caca18366e2e4c0d6c602c33a052f3  c6ded54a3df59cd72f728b821b45a5c30020ccb2   \n",
       "3  62caca18366e2e4c0d6c602c33a052f3  c6ded54a3df59cd72f728b821b45a5c30020ccb2   \n",
       "4  62caca18366e2e4c0d6c602c33a052f3  c6ded54a3df59cd72f728b821b45a5c30020ccb2   \n",
       "5  62caca18366e2e4c0d6c602c33a052f3  c6ded54a3df59cd72f728b821b45a5c30020ccb2   \n",
       "6  62caca18366e2e4c0d6c602c33a052f3  c6ded54a3df59cd72f728b821b45a5c30020ccb2   \n",
       "7  62caca18366e2e4c0d6c602c33a052f3  c6ded54a3df59cd72f728b821b45a5c30020ccb2   \n",
       "8  62caca18366e2e4c0d6c602c33a052f3  c6ded54a3df59cd72f728b821b45a5c30020ccb2   \n",
       "9  62caca18366e2e4c0d6c602c33a052f3  c6ded54a3df59cd72f728b821b45a5c30020ccb2   \n",
       "\n",
       "         timestamp_session                                   user_session_id  \\\n",
       "0  2022-07-10 12:46:16.232  2d333ac242f846ebbd76cd7d04def83a_2022_07_10_12_1   \n",
       "1  2022-07-10 12:46:16.232  2d333ac242f846ebbd76cd7d04def83a_2022_07_10_12_1   \n",
       "2  2022-07-10 12:46:16.232  2d333ac242f846ebbd76cd7d04def83a_2022_07_10_12_1   \n",
       "3  2022-07-10 12:46:16.232  2d333ac242f846ebbd76cd7d04def83a_2022_07_10_12_1   \n",
       "4  2022-07-10 12:46:16.232  2d333ac242f846ebbd76cd7d04def83a_2022_07_10_12_1   \n",
       "5  2022-07-10 12:46:16.232  2d333ac242f846ebbd76cd7d04def83a_2022_07_10_12_1   \n",
       "6  2022-07-10 12:46:16.232  2d333ac242f846ebbd76cd7d04def83a_2022_07_10_12_1   \n",
       "7  2022-07-10 12:46:16.232  2d333ac242f846ebbd76cd7d04def83a_2022_07_10_12_1   \n",
       "8  2022-07-10 12:46:16.232  2d333ac242f846ebbd76cd7d04def83a_2022_07_10_12_1   \n",
       "9  2022-07-10 12:46:16.232  2d333ac242f846ebbd76cd7d04def83a_2022_07_10_12_1   \n",
       "\n",
       "        Dates  Time order                                      zpid  submit  \\\n",
       "0  2022-07-10    12  None  025f47cb03bfc749833b60781fe838b052c99b16       0   \n",
       "1  2022-07-10    12  None  03b67c2d5a08940a83183bc9aa65a4a361984712       0   \n",
       "2  2022-07-10    12  None  04556d1bfec79bb20b0a601f3926d2aee75add55       0   \n",
       "3  2022-07-10    12  None  0853b34b7ae52feee8d093532c520ae4c183dbce       0   \n",
       "4  2022-07-10    12  None  10c21ad82ae54a63878656578c081c6ea508b88e       0   \n",
       "5  2022-07-10    12  None  1189321cd477259c398679d845c24a04f759f042       0   \n",
       "6  2022-07-10    12  None  135cacaacf7158c74b859ed1e67b627755ef68f6       0   \n",
       "7  2022-07-10    12  None  13e7f9ad3ac6ec31aaeecfd0e9b54b6e8734c218       0   \n",
       "8  2022-07-10    12  None  15d8abef4fe85ae89e71f361705e8a2a4e607f27       0   \n",
       "9  2022-07-10    12  None  18709eef87665b41fe49ca26e8e33efa3c4b7548       0   \n",
       "\n",
       "   fav  click  \n",
       "0    0      0  \n",
       "1    0      0  \n",
       "2    0      0  \n",
       "3    0      0  \n",
       "4    0      0  \n",
       "5    0      0  \n",
       "6    0      0  \n",
       "7    0      0  \n",
       "8    0      0  \n",
       "9    0      0  "
      ]
     },
     "execution_count": 7,
     "metadata": {},
     "output_type": "execute_result"
    }
   ],
   "source": [
    "df.head(10)"
   ]
  },
  {
   "cell_type": "code",
   "execution_count": 13,
   "metadata": {},
   "outputs": [
    {
     "data": {
      "text/plain": [
       "tracing_id            10000\n",
       "user_id_hash           9890\n",
       "timestamp_session      9998\n",
       "user_session_id        9986\n",
       "Dates                     1\n",
       "Time                     24\n",
       "order                    41\n",
       "zpid                 417060\n",
       "submit                    2\n",
       "fav                       2\n",
       "click                     2\n",
       "dtype: int64"
      ]
     },
     "execution_count": 13,
     "metadata": {},
     "output_type": "execute_result"
    }
   ],
   "source": [
    "df.nunique()"
   ]
  },
  {
   "cell_type": "markdown",
   "metadata": {},
   "source": [
    "Plotting the relationship between users/tracing_id with the hour. Using hours specifically to understand when there is more traffic on Zillow.com"
   ]
  },
  {
   "cell_type": "code",
   "execution_count": 8,
   "metadata": {},
   "outputs": [
    {
     "data": {
      "text/plain": [
       "[<matplotlib.lines.Line2D at 0x28a65c7f0>]"
      ]
     },
     "execution_count": 8,
     "metadata": {},
     "output_type": "execute_result"
    },
    {
     "data": {
      "image/png": "[encoded data removed]",
      "text/plain": [
       "<Figure size 640x480 with 1 Axes>"
      ]
     },
     "metadata": {},
     "output_type": "display_data"
    }
   ],
   "source": [
    "users_by_hour = df.groupby('Time')['user_id_hash'].count()\n",
    "plt.plot(users_by_hour)"
   ]
  },
  {
   "cell_type": "code",
   "execution_count": 9,
   "metadata": {},
   "outputs": [
    {
     "data": {
      "text/plain": [
       "[<matplotlib.lines.Line2D at 0x28a747250>]"
      ]
     },
     "execution_count": 9,
     "metadata": {},
     "output_type": "execute_result"
    },
    {
     "data": {
      "image/png": "[encoded data removed]",
      "text/plain": [
       "<Figure size 640x480 with 1 Axes>"
      ]
     },
     "metadata": {},
     "output_type": "display_data"
    }
   ],
   "source": [
    "tracing_by_hour = df.groupby('Time')['tracing_id'].count()\n",
    "plt.plot(users_by_hour)"
   ]
  },
  {
   "cell_type": "code",
   "execution_count": 11,
   "metadata": {},
   "outputs": [
    {
     "data": {
      "text/plain": [
       "user_id_hash\n",
       "5b290a622798442fc4fb02ce6ecd57a90f6328e0    277\n",
       "962df579427c8dfd1030b2222e8c035fbc22ae39    277\n",
       "ae65940df67baa0e63a104b1f650a66fcc168407    273\n",
       "dc6dabca74299cb59a47803fb56948e7988a03e3    273\n",
       "9d49af693facfb432e6dda10c5323fe3004dab14    264\n",
       "4b0c949fd9d4ea49ee691b402f5fddbe131e7395    263\n",
       "e5d4a0cedcd9b308b834988a4a02d2b7b4a5e532    259\n",
       "984fee4d0ed3ce54ecfa73efb65821aa4c6abe81    256\n",
       "36efb2e292493bd6cc21b3142aa90a4366207bcd    254\n",
       "4bfc910c96f2fdbe95d1cb97be6f63e2ea3f6c4a    250\n",
       "Name: tracing_id, dtype: int64"
      ]
     },
     "execution_count": 11,
     "metadata": {},
     "output_type": "execute_result"
    }
   ],
   "source": [
    "users_by_trace = df.groupby('user_id_hash')['tracing_id'].count().nlargest(10)\n",
    "users_by_trace"
   ]
  },
  {
   "cell_type": "code",
   "execution_count": 12,
   "metadata": {},
   "outputs": [
    {
     "data": {
      "text/plain": [
       "count     10.000000\n",
       "mean     264.600000\n",
       "std        9.901739\n",
       "min      250.000000\n",
       "25%      256.750000\n",
       "50%      263.500000\n",
       "75%      273.000000\n",
       "max      277.000000\n",
       "Name: tracing_id, dtype: float64"
      ]
     },
     "execution_count": 12,
     "metadata": {},
     "output_type": "execute_result"
    }
   ],
   "source": [
    "users_by_trace.describe()"
   ]
  },
  {
   "cell_type": "markdown",
   "metadata": {},
   "source": [
    "Here we are checking the relationship between our engagement signals and the hour of the day. This can help us understand when do users mostly engage with the content on the website"
   ]
  },
  {
   "cell_type": "code",
   "execution_count": 15,
   "metadata": {},
   "outputs": [
    {
     "data": {
      "text/plain": [
       "[<matplotlib.lines.Line2D at 0x28a7df550>]"
      ]
     },
     "execution_count": 15,
     "metadata": {},
     "output_type": "execute_result"
    },
    {
     "data": {
      "image/png": "[encoded data removed]",
      "text/plain": [
       "<Figure size 640x480 with 1 Axes>"
      ]
     },
     "metadata": {},
     "output_type": "display_data"
    }
   ],
   "source": [
    "fav_by_hour = df.groupby('Time')['fav'].sum()\n",
    "plt.plot(fav_by_hour)"
   ]
  },
  {
   "cell_type": "code",
   "execution_count": 16,
   "metadata": {},
   "outputs": [
    {
     "data": {
      "text/plain": [
       "[<matplotlib.lines.Line2D at 0x15d523190>]"
      ]
     },
     "execution_count": 16,
     "metadata": {},
     "output_type": "execute_result"
    },
    {
     "data": {
      "image/png": "[encoded data removed]",
      "text/plain": [
       "<Figure size 640x480 with 1 Axes>"
      ]
     },
     "metadata": {},
     "output_type": "display_data"
    }
   ],
   "source": [
    "clicks_by_hour = df.groupby('Time')['click'].sum()\n",
    "plt.plot(clicks_by_hour)"
   ]
  },
  {
   "cell_type": "code",
   "execution_count": 17,
   "metadata": {},
   "outputs": [
    {
     "data": {
      "text/plain": [
       "[<matplotlib.lines.Line2D at 0x15d58ef10>]"
      ]
     },
     "execution_count": 17,
     "metadata": {},
     "output_type": "execute_result"
    },
    {
     "data": {
      "image/png": "[encoded data removed]",
      "text/plain": [
       "<Figure size 640x480 with 1 Axes>"
      ]
     },
     "metadata": {},
     "output_type": "display_data"
    }
   ],
   "source": [
    "submits = df.groupby('Time')['submit'].sum()\n",
    "plt.plot(submits)"
   ]
  },
  {
   "cell_type": "markdown",
   "metadata": {},
   "source": [
    "Now we are trying to understand the distribution of each of these engagement signals with respect to the hour of the day"
   ]
  },
  {
   "cell_type": "code",
   "execution_count": 25,
   "metadata": {},
   "outputs": [
    {
     "data": {
      "text/plain": [
       "22    0.081841\n",
       "16    0.069054\n",
       "0     0.061381\n",
       "20    0.058824\n",
       "13    0.058824\n",
       "3     0.056266\n",
       "19    0.053708\n",
       "18    0.053708\n",
       "1     0.051151\n",
       "2     0.046036\n",
       "23    0.043478\n",
       "6     0.043478\n",
       "21    0.040921\n",
       "15    0.038363\n",
       "12    0.033248\n",
       "4     0.030691\n",
       "8     0.030691\n",
       "14    0.028133\n",
       "17    0.025575\n",
       "11    0.023018\n",
       "5     0.020460\n",
       "10    0.020460\n",
       "9     0.017903\n",
       "7     0.012788\n",
       "Name: Time, dtype: float64"
      ]
     },
     "execution_count": 25,
     "metadata": {},
     "output_type": "execute_result"
    }
   ],
   "source": [
    "distribution_fav  = df['Time'][df['fav']==1].value_counts(normalize=True)\n",
    "distribution_fav"
   ]
  },
  {
   "cell_type": "code",
   "execution_count": 89,
   "metadata": {},
   "outputs": [
    {
     "data": {
      "text/plain": [
       "20    0.062273\n",
       "22    0.060863\n",
       "18    0.059694\n",
       "19    0.058122\n",
       "21    0.058081\n",
       "2     0.057840\n",
       "0     0.056268\n",
       "1     0.055623\n",
       "23    0.055300\n",
       "16    0.054494\n",
       "15    0.051955\n",
       "17    0.051471\n",
       "3     0.048650\n",
       "4     0.044821\n",
       "14    0.043813\n",
       "13    0.038573\n",
       "12    0.027328\n",
       "5     0.025635\n",
       "6     0.022128\n",
       "11    0.020838\n",
       "7     0.013865\n",
       "8     0.011326\n",
       "9     0.011004\n",
       "10    0.010036\n",
       "Name: Time, dtype: float64"
      ]
     },
     "execution_count": 89,
     "metadata": {},
     "output_type": "execute_result"
    }
   ],
   "source": [
    "distribution_click = df['Time'][df['click']==1].value_counts(normalize=True)\n",
    "distribution_click"
   ]
  },
  {
   "cell_type": "code",
   "execution_count": 82,
   "metadata": {},
   "outputs": [
    {
     "data": {
      "text/plain": [
       "8     0.142857\n",
       "11    0.142857\n",
       "15    0.107143\n",
       "14    0.071429\n",
       "0     0.071429\n",
       "21    0.071429\n",
       "17    0.071429\n",
       "20    0.071429\n",
       "18    0.035714\n",
       "5     0.035714\n",
       "3     0.035714\n",
       "19    0.035714\n",
       "13    0.035714\n",
       "16    0.035714\n",
       "22    0.035714\n",
       "Name: Time, dtype: float64"
      ]
     },
     "execution_count": 82,
     "metadata": {},
     "output_type": "execute_result"
    }
   ],
   "source": [
    "distribution_submit= df[df['submit']==1][\"Time\"].value_counts(normalize=True)\n",
    "distribution_submit"
   ]
  },
  {
   "cell_type": "code",
   "execution_count": 86,
   "metadata": {},
   "outputs": [],
   "source": [
    "clicks = df.loc[df['click'] == 1]\n",
    "favs = df.loc[df['fav'] == 1]\n",
    "submits = df.loc[df['submit'] == 1]"
   ]
  },
  {
   "cell_type": "code",
   "execution_count": 88,
   "metadata": {},
   "outputs": [
    {
     "data": {
      "text/plain": [
       "<AxesSubplot: ylabel='Density'>"
      ]
     },
     "execution_count": 88,
     "metadata": {},
     "output_type": "execute_result"
    },
    {
     "data": {
      "image/png": "[encoded data removed]",
      "text/plain": [
       "<Figure size 640x480 with 1 Axes>"
      ]
     },
     "metadata": {},
     "output_type": "display_data"
    }
   ],
   "source": [
    "sns.histplot(clicks[['Time']], kde=True, stat=\"density\")"
   ]
  },
  {
   "cell_type": "code",
   "execution_count": 90,
   "metadata": {},
   "outputs": [
    {
     "data": {
      "text/plain": [
       "<AxesSubplot: ylabel='Density'>"
      ]
     },
     "execution_count": 90,
     "metadata": {},
     "output_type": "execute_result"
    },
    {
     "data": {
      "image/png": "[encoded data removed]",
      "text/plain": [
       "<Figure size 640x480 with 1 Axes>"
      ]
     },
     "metadata": {},
     "output_type": "display_data"
    }
   ],
   "source": [
    "sns.histplot(favs[['Time']], kde=True, stat=\"density\")"
   ]
  },
  {
   "cell_type": "code",
   "execution_count": 91,
   "metadata": {},
   "outputs": [
    {
     "data": {
      "text/plain": [
       "<AxesSubplot: ylabel='Density'>"
      ]
     },
     "execution_count": 91,
     "metadata": {},
     "output_type": "execute_result"
    },
    {
     "data": {
      "image/png": "[encoded data removed]",
      "text/plain": [
       "<Figure size 640x480 with 1 Axes>"
      ]
     },
     "metadata": {},
     "output_type": "display_data"
    }
   ],
   "source": [
    "sns.histplot(submits[['Time']], kde=True, stat=\"density\")"
   ]
  },
  {
   "cell_type": "markdown",
   "metadata": {},
   "source": [
    "We are performing RFM analysis using clicks as an indication of the business value (M)"
   ]
  },
  {
   "cell_type": "code",
   "execution_count": 190,
   "metadata": {},
   "outputs": [
    {
     "data": {
      "text/html": [
       "<div>\n",
       "<style scoped>\n",
       "    .dataframe tbody tr th:only-of-type {\n",
       "        vertical-align: middle;\n",
       "    }\n",
       "\n",
       "    .dataframe tbody tr th {\n",
       "        vertical-align: top;\n",
       "    }\n",
       "\n",
       "    .dataframe thead th {\n",
       "        text-align: right;\n",
       "    }\n",
       "</style>\n",
       "<table border=\"1\" class=\"dataframe\">\n",
       "  <thead>\n",
       "    <tr style=\"text-align: right;\">\n",
       "      <th></th>\n",
       "      <th>Recency</th>\n",
       "      <th>Frequency</th>\n",
       "      <th>Monetary</th>\n",
       "    </tr>\n",
       "    <tr>\n",
       "      <th>zpid</th>\n",
       "      <th></th>\n",
       "      <th></th>\n",
       "      <th></th>\n",
       "    </tr>\n",
       "  </thead>\n",
       "  <tbody>\n",
       "    <tr>\n",
       "      <th>000003c589a108a66740947136a79616b34e5731</th>\n",
       "      <td>22</td>\n",
       "      <td>1</td>\n",
       "      <td>0</td>\n",
       "    </tr>\n",
       "    <tr>\n",
       "      <th>000004c544be6da6b37af0111f378b234f6e5158</th>\n",
       "      <td>4</td>\n",
       "      <td>2</td>\n",
       "      <td>0</td>\n",
       "    </tr>\n",
       "    <tr>\n",
       "      <th>000016f2dce543454fec4419d7db632ce1829ba3</th>\n",
       "      <td>4</td>\n",
       "      <td>2</td>\n",
       "      <td>0</td>\n",
       "    </tr>\n",
       "    <tr>\n",
       "      <th>000025f7e32a2f52a5c05a77e80efba53c62334d</th>\n",
       "      <td>0</td>\n",
       "      <td>6</td>\n",
       "      <td>0</td>\n",
       "    </tr>\n",
       "    <tr>\n",
       "      <th>000075a536cce86efa1fc1cd4fea85bc76a7437e</th>\n",
       "      <td>20</td>\n",
       "      <td>1</td>\n",
       "      <td>0</td>\n",
       "    </tr>\n",
       "  </tbody>\n",
       "</table>\n",
       "</div>"
      ],
      "text/plain": [
       "                                          Recency  Frequency  Monetary\n",
       "zpid                                                                  \n",
       "000003c589a108a66740947136a79616b34e5731       22          1         0\n",
       "000004c544be6da6b37af0111f378b234f6e5158        4          2         0\n",
       "000016f2dce543454fec4419d7db632ce1829ba3        4          2         0\n",
       "000025f7e32a2f52a5c05a77e80efba53c62334d        0          6         0\n",
       "000075a536cce86efa1fc1cd4fea85bc76a7437e       20          1         0"
      ]
     },
     "execution_count": 190,
     "metadata": {},
     "output_type": "execute_result"
    }
   ],
   "source": [
    "RFM= df.groupby('zpid').agg(Recency=('Time',lambda x: x.min()),\n",
    "                                 Frequency=('zpid',lambda x: x.count()),\n",
    "                                 Monetary=('click',lambda x: x.sum()))\n",
    "RFM.head()"
   ]
  },
  {
   "cell_type": "code",
   "execution_count": 194,
   "metadata": {},
   "outputs": [
    {
     "data": {
      "text/plain": [
       "count    417060.000000\n",
       "mean          1.634976\n",
       "std           1.201721\n",
       "min           1.000000\n",
       "25%           1.000000\n",
       "50%           1.000000\n",
       "75%           2.000000\n",
       "max          25.000000\n",
       "Name: Frequency, dtype: float64"
      ]
     },
     "execution_count": 194,
     "metadata": {},
     "output_type": "execute_result"
    }
   ],
   "source": [
    "RFM['Frequency'].describe()"
   ]
  },
  {
   "cell_type": "code",
   "execution_count": 195,
   "metadata": {},
   "outputs": [
    {
     "data": {
      "text/plain": [
       "{'Recency': {0.25: 3.0, 0.5: 12.0, 0.75: 18.0},\n",
       " 'Frequency': {0.25: 1.0, 0.5: 1.0, 0.75: 2.0},\n",
       " 'Monetary': {0.25: 0.0, 0.5: 0.0, 0.75: 0.0}}"
      ]
     },
     "execution_count": 195,
     "metadata": {},
     "output_type": "execute_result"
    }
   ],
   "source": [
    "quartiles=RFM.quantile(q=[0.25,0.5,0.75]).to_dict()\n",
    "quartiles"
   ]
  },
  {
   "cell_type": "code",
   "execution_count": 196,
   "metadata": {},
   "outputs": [],
   "source": [
    "def R(x,p,d):\n",
    "    if x <= d[p][0.25]:\n",
    "        return 1\n",
    "    elif x <= d[p][0.50]:\n",
    "        return 2\n",
    "    elif x <= d[p][0.75]: \n",
    "        return 3\n",
    "    else:\n",
    "        return 4\n",
    "\n",
    "def FM(x,p,d):\n",
    "    if x <= d[p][0.25]:\n",
    "        return 4\n",
    "    elif x <= d[p][0.50]:\n",
    "        return 3\n",
    "    elif x <= d[p][0.75]: \n",
    "        return 2\n",
    "    else:\n",
    "        return 1 "
   ]
  },
  {
   "cell_type": "code",
   "execution_count": 198,
   "metadata": {},
   "outputs": [
    {
     "data": {
      "text/html": [
       "<div>\n",
       "<style scoped>\n",
       "    .dataframe tbody tr th:only-of-type {\n",
       "        vertical-align: middle;\n",
       "    }\n",
       "\n",
       "    .dataframe tbody tr th {\n",
       "        vertical-align: top;\n",
       "    }\n",
       "\n",
       "    .dataframe thead th {\n",
       "        text-align: right;\n",
       "    }\n",
       "</style>\n",
       "<table border=\"1\" class=\"dataframe\">\n",
       "  <thead>\n",
       "    <tr style=\"text-align: right;\">\n",
       "      <th></th>\n",
       "      <th>Recency</th>\n",
       "      <th>Frequency</th>\n",
       "      <th>Monetary</th>\n",
       "      <th>R_Quartile</th>\n",
       "      <th>F_Quartile</th>\n",
       "      <th>M_Quartile</th>\n",
       "      <th>RFM_segmentation</th>\n",
       "      <th>RFM_score</th>\n",
       "    </tr>\n",
       "    <tr>\n",
       "      <th>zpid</th>\n",
       "      <th></th>\n",
       "      <th></th>\n",
       "      <th></th>\n",
       "      <th></th>\n",
       "      <th></th>\n",
       "      <th></th>\n",
       "      <th></th>\n",
       "      <th></th>\n",
       "    </tr>\n",
       "  </thead>\n",
       "  <tbody>\n",
       "    <tr>\n",
       "      <th>000003c589a108a66740947136a79616b34e5731</th>\n",
       "      <td>22</td>\n",
       "      <td>1</td>\n",
       "      <td>0</td>\n",
       "      <td>4</td>\n",
       "      <td>4</td>\n",
       "      <td>4</td>\n",
       "      <td>444</td>\n",
       "      <td>12</td>\n",
       "    </tr>\n",
       "    <tr>\n",
       "      <th>000004c544be6da6b37af0111f378b234f6e5158</th>\n",
       "      <td>4</td>\n",
       "      <td>2</td>\n",
       "      <td>0</td>\n",
       "      <td>2</td>\n",
       "      <td>2</td>\n",
       "      <td>4</td>\n",
       "      <td>224</td>\n",
       "      <td>8</td>\n",
       "    </tr>\n",
       "    <tr>\n",
       "      <th>000016f2dce543454fec4419d7db632ce1829ba3</th>\n",
       "      <td>4</td>\n",
       "      <td>2</td>\n",
       "      <td>0</td>\n",
       "      <td>2</td>\n",
       "      <td>2</td>\n",
       "      <td>4</td>\n",
       "      <td>224</td>\n",
       "      <td>8</td>\n",
       "    </tr>\n",
       "    <tr>\n",
       "      <th>000025f7e32a2f52a5c05a77e80efba53c62334d</th>\n",
       "      <td>0</td>\n",
       "      <td>6</td>\n",
       "      <td>0</td>\n",
       "      <td>1</td>\n",
       "      <td>1</td>\n",
       "      <td>4</td>\n",
       "      <td>114</td>\n",
       "      <td>6</td>\n",
       "    </tr>\n",
       "    <tr>\n",
       "      <th>000075a536cce86efa1fc1cd4fea85bc76a7437e</th>\n",
       "      <td>20</td>\n",
       "      <td>1</td>\n",
       "      <td>0</td>\n",
       "      <td>4</td>\n",
       "      <td>4</td>\n",
       "      <td>4</td>\n",
       "      <td>444</td>\n",
       "      <td>12</td>\n",
       "    </tr>\n",
       "  </tbody>\n",
       "</table>\n",
       "</div>"
      ],
      "text/plain": [
       "                                          Recency  Frequency  Monetary  \\\n",
       "zpid                                                                     \n",
       "000003c589a108a66740947136a79616b34e5731       22          1         0   \n",
       "000004c544be6da6b37af0111f378b234f6e5158        4          2         0   \n",
       "000016f2dce543454fec4419d7db632ce1829ba3        4          2         0   \n",
       "000025f7e32a2f52a5c05a77e80efba53c62334d        0          6         0   \n",
       "000075a536cce86efa1fc1cd4fea85bc76a7437e       20          1         0   \n",
       "\n",
       "                                          R_Quartile  F_Quartile  M_Quartile  \\\n",
       "zpid                                                                           \n",
       "000003c589a108a66740947136a79616b34e5731           4           4           4   \n",
       "000004c544be6da6b37af0111f378b234f6e5158           2           2           4   \n",
       "000016f2dce543454fec4419d7db632ce1829ba3           2           2           4   \n",
       "000025f7e32a2f52a5c05a77e80efba53c62334d           1           1           4   \n",
       "000075a536cce86efa1fc1cd4fea85bc76a7437e           4           4           4   \n",
       "\n",
       "                                         RFM_segmentation  RFM_score  \n",
       "zpid                                                                  \n",
       "000003c589a108a66740947136a79616b34e5731              444         12  \n",
       "000004c544be6da6b37af0111f378b234f6e5158              224          8  \n",
       "000016f2dce543454fec4419d7db632ce1829ba3              224          8  \n",
       "000025f7e32a2f52a5c05a77e80efba53c62334d              114          6  \n",
       "000075a536cce86efa1fc1cd4fea85bc76a7437e              444         12  "
      ]
     },
     "execution_count": 198,
     "metadata": {},
     "output_type": "execute_result"
    }
   ],
   "source": [
    "RFM['R_Quartile'] = RFM['Recency'].apply(R, args=('Recency',quartiles,))\n",
    "RFM['F_Quartile'] = RFM['Frequency'].apply(FM, args=('Frequency',quartiles,))\n",
    "RFM['M_Quartile'] = RFM['Monetary'].apply(FM, args=('Monetary',quartiles,))\n",
    "RFM['RFM_segmentation'] = RFM.R_Quartile.map(str) \\\n",
    "                    + RFM.F_Quartile.map(str) \\\n",
    "                    + RFM.M_Quartile.map(str)\n",
    "RFM['RFM_score'] = RFM.R_Quartile.map(int) \\\n",
    "                    + RFM.F_Quartile.map(int) \\\n",
    "                    + RFM.M_Quartile.map(int)\n",
    "RFM.head()"
   ]
  },
  {
   "cell_type": "code",
   "execution_count": 199,
   "metadata": {},
   "outputs": [
    {
     "data": {
      "text/html": [
       "<div>\n",
       "<style scoped>\n",
       "    .dataframe tbody tr th:only-of-type {\n",
       "        vertical-align: middle;\n",
       "    }\n",
       "\n",
       "    .dataframe tbody tr th {\n",
       "        vertical-align: top;\n",
       "    }\n",
       "\n",
       "    .dataframe thead th {\n",
       "        text-align: right;\n",
       "    }\n",
       "</style>\n",
       "<table border=\"1\" class=\"dataframe\">\n",
       "  <thead>\n",
       "    <tr style=\"text-align: right;\">\n",
       "      <th></th>\n",
       "      <th>Recency</th>\n",
       "      <th>Frequency</th>\n",
       "      <th>Monetary</th>\n",
       "      <th>R_Quartile</th>\n",
       "      <th>F_Quartile</th>\n",
       "      <th>M_Quartile</th>\n",
       "      <th>RFM_segmentation</th>\n",
       "      <th>RFM_score</th>\n",
       "      <th>RFM_label</th>\n",
       "    </tr>\n",
       "    <tr>\n",
       "      <th>zpid</th>\n",
       "      <th></th>\n",
       "      <th></th>\n",
       "      <th></th>\n",
       "      <th></th>\n",
       "      <th></th>\n",
       "      <th></th>\n",
       "      <th></th>\n",
       "      <th></th>\n",
       "      <th></th>\n",
       "    </tr>\n",
       "  </thead>\n",
       "  <tbody>\n",
       "    <tr>\n",
       "      <th>000003c589a108a66740947136a79616b34e5731</th>\n",
       "      <td>22</td>\n",
       "      <td>1</td>\n",
       "      <td>0</td>\n",
       "      <td>4</td>\n",
       "      <td>4</td>\n",
       "      <td>4</td>\n",
       "      <td>444</td>\n",
       "      <td>12</td>\n",
       "      <td>Lost</td>\n",
       "    </tr>\n",
       "    <tr>\n",
       "      <th>000004c544be6da6b37af0111f378b234f6e5158</th>\n",
       "      <td>4</td>\n",
       "      <td>2</td>\n",
       "      <td>0</td>\n",
       "      <td>2</td>\n",
       "      <td>2</td>\n",
       "      <td>4</td>\n",
       "      <td>224</td>\n",
       "      <td>8</td>\n",
       "      <td>Can’t Lose Them</td>\n",
       "    </tr>\n",
       "    <tr>\n",
       "      <th>000016f2dce543454fec4419d7db632ce1829ba3</th>\n",
       "      <td>4</td>\n",
       "      <td>2</td>\n",
       "      <td>0</td>\n",
       "      <td>2</td>\n",
       "      <td>2</td>\n",
       "      <td>4</td>\n",
       "      <td>224</td>\n",
       "      <td>8</td>\n",
       "      <td>Can’t Lose Them</td>\n",
       "    </tr>\n",
       "    <tr>\n",
       "      <th>000025f7e32a2f52a5c05a77e80efba53c62334d</th>\n",
       "      <td>0</td>\n",
       "      <td>6</td>\n",
       "      <td>0</td>\n",
       "      <td>1</td>\n",
       "      <td>1</td>\n",
       "      <td>4</td>\n",
       "      <td>114</td>\n",
       "      <td>6</td>\n",
       "      <td>Promising</td>\n",
       "    </tr>\n",
       "    <tr>\n",
       "      <th>000075a536cce86efa1fc1cd4fea85bc76a7437e</th>\n",
       "      <td>20</td>\n",
       "      <td>1</td>\n",
       "      <td>0</td>\n",
       "      <td>4</td>\n",
       "      <td>4</td>\n",
       "      <td>4</td>\n",
       "      <td>444</td>\n",
       "      <td>12</td>\n",
       "      <td>Lost</td>\n",
       "    </tr>\n",
       "  </tbody>\n",
       "</table>\n",
       "</div>"
      ],
      "text/plain": [
       "                                          Recency  Frequency  Monetary  \\\n",
       "zpid                                                                     \n",
       "000003c589a108a66740947136a79616b34e5731       22          1         0   \n",
       "000004c544be6da6b37af0111f378b234f6e5158        4          2         0   \n",
       "000016f2dce543454fec4419d7db632ce1829ba3        4          2         0   \n",
       "000025f7e32a2f52a5c05a77e80efba53c62334d        0          6         0   \n",
       "000075a536cce86efa1fc1cd4fea85bc76a7437e       20          1         0   \n",
       "\n",
       "                                          R_Quartile  F_Quartile  M_Quartile  \\\n",
       "zpid                                                                           \n",
       "000003c589a108a66740947136a79616b34e5731           4           4           4   \n",
       "000004c544be6da6b37af0111f378b234f6e5158           2           2           4   \n",
       "000016f2dce543454fec4419d7db632ce1829ba3           2           2           4   \n",
       "000025f7e32a2f52a5c05a77e80efba53c62334d           1           1           4   \n",
       "000075a536cce86efa1fc1cd4fea85bc76a7437e           4           4           4   \n",
       "\n",
       "                                         RFM_segmentation  RFM_score  \\\n",
       "zpid                                                                   \n",
       "000003c589a108a66740947136a79616b34e5731              444         12   \n",
       "000004c544be6da6b37af0111f378b234f6e5158              224          8   \n",
       "000016f2dce543454fec4419d7db632ce1829ba3              224          8   \n",
       "000025f7e32a2f52a5c05a77e80efba53c62334d              114          6   \n",
       "000075a536cce86efa1fc1cd4fea85bc76a7437e              444         12   \n",
       "\n",
       "                                                RFM_label  \n",
       "zpid                                                       \n",
       "000003c589a108a66740947136a79616b34e5731             Lost  \n",
       "000004c544be6da6b37af0111f378b234f6e5158  Can’t Lose Them  \n",
       "000016f2dce543454fec4419d7db632ce1829ba3  Can’t Lose Them  \n",
       "000025f7e32a2f52a5c05a77e80efba53c62334d        Promising  \n",
       "000075a536cce86efa1fc1cd4fea85bc76a7437e             Lost  "
      ]
     },
     "execution_count": 199,
     "metadata": {},
     "output_type": "execute_result"
    }
   ],
   "source": [
    "def RFM_label(data):\n",
    "    if data['RFM_score'] >= 10:\n",
    "        return 'Lost'\n",
    "    elif ((data['RFM_score'] >= 9) and (data['RFM_score'] < 10)):\n",
    "        return 'Hibernating'\n",
    "    elif ((data['RFM_score'] >= 8) and (data['RFM_score'] < 9)):\n",
    "        return 'Can’t Lose Them'\n",
    "    elif ((data['RFM_score'] >= 7) and (data['RFM_score'] < 8)):\n",
    "        return 'About To Sleep'\n",
    "    elif ((data['RFM_score'] >= 6) and (data['RFM_score'] < 7)):\n",
    "        return 'Promising'\n",
    "    elif ((data['RFM_score'] >= 5) and (data['RFM_score'] < 6)):\n",
    "        return 'Potential Loyalist'\n",
    "    elif ((data['RFM_score'] >= 4) and (data['RFM_score'] < 5)):\n",
    "        return 'Loyal Customers'\n",
    "    else:\n",
    "        return 'Champions'\n",
    "#Create RFM label for customer\n",
    "RFM['RFM_label'] = RFM.apply(RFM_label, axis=1)\n",
    "RFM.head()"
   ]
  },
  {
   "cell_type": "code",
   "execution_count": 200,
   "metadata": {},
   "outputs": [
    {
     "name": "stdout",
     "output_type": "stream",
     "text": [
      "                   Recency Frequency Monetary        \n",
      "                      mean      mean     mean   count\n",
      "RFM_label                                            \n",
      "About To Sleep         3.4       2.4      0.0   46904\n",
      "Can’t Lose Them       10.0       2.3      0.1   31512\n",
      "Champions              1.1       5.3      1.2    5452\n",
      "Hibernating            6.4       1.3      0.0   81238\n",
      "Lost                  16.1       1.0      0.0  212238\n",
      "Loyal Customers        4.0       3.2      1.1    4378\n",
      "Potential Loyalist    10.6       2.6      1.1    2627\n",
      "Promising              2.1       3.7      0.1   32711\n"
     ]
    }
   ],
   "source": [
    "RFM_desc = RFM.groupby('RFM_label').agg({\n",
    "    'Recency': 'mean',\n",
    "    'Frequency': 'mean',\n",
    "    'Monetary': ['mean', 'count']\n",
    "}).round(1)\n",
    "print(RFM_desc)"
   ]
  },
  {
   "cell_type": "code",
   "execution_count": 201,
   "metadata": {},
   "outputs": [
    {
     "data": {
      "image/png": "[encoded data removed]",
      "text/plain": [
       "<Figure size 1600x900 with 1 Axes>"
      ]
     },
     "metadata": {},
     "output_type": "display_data"
    }
   ],
   "source": [
    "fig = plt.gcf()\n",
    "ax = fig.add_subplot()\n",
    "fig.set_size_inches(16, 9)\n",
    "RFM_desc.columns = ['RecencyMean','FrequencyMean','MonetaryMean', 'Count']\n",
    "squarify.plot(sizes=RFM_desc['Count'], \n",
    "              label=['Lost',\n",
    "                     'Hibernating',\n",
    "                     'Can’t Lose Them',\n",
    "                     'About To Sleep',\n",
    "                     'Promising', \n",
    "                     'Potential Loyalist', \n",
    "                     'Loyal Customers',\n",
    "                     'Champions'], alpha=.8 )\n",
    "plt.title(\"RFM Segments\",fontsize=18,fontweight=\"bold\")\n",
    "plt.axis('off')\n",
    "plt.show()"
   ]
  },
  {
   "cell_type": "markdown",
   "metadata": {},
   "source": [
    "Another approach that we are trying for the RFM segmentation is to take a weighted score of the normalised frequencies of all the engagement signals"
   ]
  },
  {
   "cell_type": "code",
   "execution_count": 202,
   "metadata": {},
   "outputs": [],
   "source": [
    "total_clicks = df[df[\"click\"]==1][\"click\"].count()\n",
    "total_favs = df[df[\"fav\"]==1][\"fav\"].count()\n",
    "total_submits = df[df[\"submit\"]==1][\"submit\"].count()"
   ]
  },
  {
   "cell_type": "code",
   "execution_count": 203,
   "metadata": {},
   "outputs": [],
   "source": [
    "df[\"weighted_score\"] = 1 - (df[\"click\"]  + 1)/total_clicks + 1 - (df[\"fav\"]  + 1)/total_clicks+ 1 - (df[\"submit\"]  + 1)/total_clicks"
   ]
  },
  {
   "cell_type": "code",
   "execution_count": 204,
   "metadata": {},
   "outputs": [
    {
     "data": {
      "text/html": [
       "<div>\n",
       "<style scoped>\n",
       "    .dataframe tbody tr th:only-of-type {\n",
       "        vertical-align: middle;\n",
       "    }\n",
       "\n",
       "    .dataframe tbody tr th {\n",
       "        vertical-align: top;\n",
       "    }\n",
       "\n",
       "    .dataframe thead th {\n",
       "        text-align: right;\n",
       "    }\n",
       "</style>\n",
       "<table border=\"1\" class=\"dataframe\">\n",
       "  <thead>\n",
       "    <tr style=\"text-align: right;\">\n",
       "      <th></th>\n",
       "      <th>Recency</th>\n",
       "      <th>Frequency</th>\n",
       "      <th>Monetary</th>\n",
       "    </tr>\n",
       "    <tr>\n",
       "      <th>user_id_hash</th>\n",
       "      <th></th>\n",
       "      <th></th>\n",
       "      <th></th>\n",
       "    </tr>\n",
       "  </thead>\n",
       "  <tbody>\n",
       "    <tr>\n",
       "      <th>0007ab33db57473ef415936ecdd465f12cc7ba96</th>\n",
       "      <td>4</td>\n",
       "      <td>78</td>\n",
       "      <td>233.990367</td>\n",
       "    </tr>\n",
       "    <tr>\n",
       "      <th>0008c0db50d29ee13e41c17e3ad367724fa29560</th>\n",
       "      <td>19</td>\n",
       "      <td>45</td>\n",
       "      <td>134.994317</td>\n",
       "    </tr>\n",
       "    <tr>\n",
       "      <th>000a9e393432b442d6f2d2db15f46c4fc9af575d</th>\n",
       "      <td>0</td>\n",
       "      <td>113</td>\n",
       "      <td>338.986296</td>\n",
       "    </tr>\n",
       "    <tr>\n",
       "      <th>000f5bcec31b791f88c9f3277ae87b89bccdd8a2</th>\n",
       "      <td>2</td>\n",
       "      <td>122</td>\n",
       "      <td>365.985046</td>\n",
       "    </tr>\n",
       "    <tr>\n",
       "      <th>00104cad780d4a8c33127f5be5c6c9a56985fab7</th>\n",
       "      <td>16</td>\n",
       "      <td>40</td>\n",
       "      <td>119.995083</td>\n",
       "    </tr>\n",
       "  </tbody>\n",
       "</table>\n",
       "</div>"
      ],
      "text/plain": [
       "                                          Recency  Frequency    Monetary\n",
       "user_id_hash                                                            \n",
       "0007ab33db57473ef415936ecdd465f12cc7ba96        4         78  233.990367\n",
       "0008c0db50d29ee13e41c17e3ad367724fa29560       19         45  134.994317\n",
       "000a9e393432b442d6f2d2db15f46c4fc9af575d        0        113  338.986296\n",
       "000f5bcec31b791f88c9f3277ae87b89bccdd8a2        2        122  365.985046\n",
       "00104cad780d4a8c33127f5be5c6c9a56985fab7       16         40  119.995083"
      ]
     },
     "execution_count": 204,
     "metadata": {},
     "output_type": "execute_result"
    }
   ],
   "source": [
    "RFM_weighted= df.groupby('user_id_hash').agg(Recency=('Time',lambda x: x.min()),\n",
    "                                 Frequency=('user_id_hash',lambda x: x.count()),\n",
    "                                 Monetary=('weighted_score',lambda x: x.sum()))\n",
    "RFM_weighted.head()"
   ]
  },
  {
   "cell_type": "code",
   "execution_count": 205,
   "metadata": {},
   "outputs": [
    {
     "data": {
      "text/plain": [
       "count    9890.000000\n",
       "mean       68.946714\n",
       "std        45.225667\n",
       "min         1.000000\n",
       "25%        34.000000\n",
       "50%        56.500000\n",
       "75%       116.000000\n",
       "max       277.000000\n",
       "Name: Frequency, dtype: float64"
      ]
     },
     "execution_count": 205,
     "metadata": {},
     "output_type": "execute_result"
    }
   ],
   "source": [
    "RFM_weighted['Frequency'].describe()"
   ]
  },
  {
   "cell_type": "code",
   "execution_count": 207,
   "metadata": {},
   "outputs": [
    {
     "data": {
      "text/plain": [
       "{'Recency': {0.25: 4.0, 0.5: 15.0, 0.75: 19.0},\n",
       " 'Frequency': {0.25: 34.0, 0.5: 56.5, 0.75: 116.0},\n",
       " 'Monetary': {0.25: 101.99580814187829,\n",
       "  0.5: 169.49290608625557,\n",
       "  0.75: 347.98589278516727}}"
      ]
     },
     "execution_count": 207,
     "metadata": {},
     "output_type": "execute_result"
    }
   ],
   "source": [
    "quartiles=RFM_weighted.quantile(q=[0.25,0.5,0.75]).to_dict()\n",
    "quartiles"
   ]
  },
  {
   "cell_type": "code",
   "execution_count": 208,
   "metadata": {},
   "outputs": [
    {
     "data": {
      "text/html": [
       "<div>\n",
       "<style scoped>\n",
       "    .dataframe tbody tr th:only-of-type {\n",
       "        vertical-align: middle;\n",
       "    }\n",
       "\n",
       "    .dataframe tbody tr th {\n",
       "        vertical-align: top;\n",
       "    }\n",
       "\n",
       "    .dataframe thead th {\n",
       "        text-align: right;\n",
       "    }\n",
       "</style>\n",
       "<table border=\"1\" class=\"dataframe\">\n",
       "  <thead>\n",
       "    <tr style=\"text-align: right;\">\n",
       "      <th></th>\n",
       "      <th>Recency</th>\n",
       "      <th>Frequency</th>\n",
       "      <th>Monetary</th>\n",
       "      <th>R_Quartile</th>\n",
       "      <th>F_Quartile</th>\n",
       "      <th>M_Quartile</th>\n",
       "      <th>RFM_segmentation</th>\n",
       "      <th>RFM_score</th>\n",
       "    </tr>\n",
       "    <tr>\n",
       "      <th>user_id_hash</th>\n",
       "      <th></th>\n",
       "      <th></th>\n",
       "      <th></th>\n",
       "      <th></th>\n",
       "      <th></th>\n",
       "      <th></th>\n",
       "      <th></th>\n",
       "      <th></th>\n",
       "    </tr>\n",
       "  </thead>\n",
       "  <tbody>\n",
       "    <tr>\n",
       "      <th>0007ab33db57473ef415936ecdd465f12cc7ba96</th>\n",
       "      <td>4</td>\n",
       "      <td>78</td>\n",
       "      <td>233.990367</td>\n",
       "      <td>1</td>\n",
       "      <td>2</td>\n",
       "      <td>2</td>\n",
       "      <td>122</td>\n",
       "      <td>5</td>\n",
       "    </tr>\n",
       "    <tr>\n",
       "      <th>0008c0db50d29ee13e41c17e3ad367724fa29560</th>\n",
       "      <td>19</td>\n",
       "      <td>45</td>\n",
       "      <td>134.994317</td>\n",
       "      <td>3</td>\n",
       "      <td>3</td>\n",
       "      <td>3</td>\n",
       "      <td>333</td>\n",
       "      <td>9</td>\n",
       "    </tr>\n",
       "    <tr>\n",
       "      <th>000a9e393432b442d6f2d2db15f46c4fc9af575d</th>\n",
       "      <td>0</td>\n",
       "      <td>113</td>\n",
       "      <td>338.986296</td>\n",
       "      <td>1</td>\n",
       "      <td>2</td>\n",
       "      <td>2</td>\n",
       "      <td>122</td>\n",
       "      <td>5</td>\n",
       "    </tr>\n",
       "    <tr>\n",
       "      <th>000f5bcec31b791f88c9f3277ae87b89bccdd8a2</th>\n",
       "      <td>2</td>\n",
       "      <td>122</td>\n",
       "      <td>365.985046</td>\n",
       "      <td>1</td>\n",
       "      <td>1</td>\n",
       "      <td>1</td>\n",
       "      <td>111</td>\n",
       "      <td>3</td>\n",
       "    </tr>\n",
       "    <tr>\n",
       "      <th>00104cad780d4a8c33127f5be5c6c9a56985fab7</th>\n",
       "      <td>16</td>\n",
       "      <td>40</td>\n",
       "      <td>119.995083</td>\n",
       "      <td>3</td>\n",
       "      <td>3</td>\n",
       "      <td>3</td>\n",
       "      <td>333</td>\n",
       "      <td>9</td>\n",
       "    </tr>\n",
       "  </tbody>\n",
       "</table>\n",
       "</div>"
      ],
      "text/plain": [
       "                                          Recency  Frequency    Monetary  \\\n",
       "user_id_hash                                                               \n",
       "0007ab33db57473ef415936ecdd465f12cc7ba96        4         78  233.990367   \n",
       "0008c0db50d29ee13e41c17e3ad367724fa29560       19         45  134.994317   \n",
       "000a9e393432b442d6f2d2db15f46c4fc9af575d        0        113  338.986296   \n",
       "000f5bcec31b791f88c9f3277ae87b89bccdd8a2        2        122  365.985046   \n",
       "00104cad780d4a8c33127f5be5c6c9a56985fab7       16         40  119.995083   \n",
       "\n",
       "                                          R_Quartile  F_Quartile  M_Quartile  \\\n",
       "user_id_hash                                                                   \n",
       "0007ab33db57473ef415936ecdd465f12cc7ba96           1           2           2   \n",
       "0008c0db50d29ee13e41c17e3ad367724fa29560           3           3           3   \n",
       "000a9e393432b442d6f2d2db15f46c4fc9af575d           1           2           2   \n",
       "000f5bcec31b791f88c9f3277ae87b89bccdd8a2           1           1           1   \n",
       "00104cad780d4a8c33127f5be5c6c9a56985fab7           3           3           3   \n",
       "\n",
       "                                         RFM_segmentation  RFM_score  \n",
       "user_id_hash                                                          \n",
       "0007ab33db57473ef415936ecdd465f12cc7ba96              122          5  \n",
       "0008c0db50d29ee13e41c17e3ad367724fa29560              333          9  \n",
       "000a9e393432b442d6f2d2db15f46c4fc9af575d              122          5  \n",
       "000f5bcec31b791f88c9f3277ae87b89bccdd8a2              111          3  \n",
       "00104cad780d4a8c33127f5be5c6c9a56985fab7              333          9  "
      ]
     },
     "execution_count": 208,
     "metadata": {},
     "output_type": "execute_result"
    }
   ],
   "source": [
    "RFM_weighted['R_Quartile'] = RFM_weighted['Recency'].apply(R, args=('Recency',quartiles,))\n",
    "RFM_weighted['F_Quartile'] = RFM_weighted['Frequency'].apply(FM, args=('Frequency',quartiles,))\n",
    "RFM_weighted['M_Quartile'] = RFM_weighted['Monetary'].apply(FM, args=('Monetary',quartiles,))\n",
    "RFM_weighted['RFM_segmentation'] = RFM_weighted.R_Quartile.map(str) \\\n",
    "                    + RFM_weighted.F_Quartile.map(str) \\\n",
    "                    + RFM_weighted.M_Quartile.map(str)\n",
    "RFM_weighted['RFM_score'] = RFM_weighted.R_Quartile.map(int) \\\n",
    "                    + RFM_weighted.F_Quartile.map(int) \\\n",
    "                    + RFM_weighted.M_Quartile.map(int)\n",
    "RFM_weighted.head()"
   ]
  },
  {
   "cell_type": "code",
   "execution_count": 209,
   "metadata": {},
   "outputs": [
    {
     "data": {
      "text/html": [
       "<div>\n",
       "<style scoped>\n",
       "    .dataframe tbody tr th:only-of-type {\n",
       "        vertical-align: middle;\n",
       "    }\n",
       "\n",
       "    .dataframe tbody tr th {\n",
       "        vertical-align: top;\n",
       "    }\n",
       "\n",
       "    .dataframe thead th {\n",
       "        text-align: right;\n",
       "    }\n",
       "</style>\n",
       "<table border=\"1\" class=\"dataframe\">\n",
       "  <thead>\n",
       "    <tr style=\"text-align: right;\">\n",
       "      <th></th>\n",
       "      <th>Recency</th>\n",
       "      <th>Frequency</th>\n",
       "      <th>Monetary</th>\n",
       "      <th>R_Quartile</th>\n",
       "      <th>F_Quartile</th>\n",
       "      <th>M_Quartile</th>\n",
       "      <th>RFM_segmentation</th>\n",
       "      <th>RFM_score</th>\n",
       "      <th>RFM_label</th>\n",
       "    </tr>\n",
       "    <tr>\n",
       "      <th>user_id_hash</th>\n",
       "      <th></th>\n",
       "      <th></th>\n",
       "      <th></th>\n",
       "      <th></th>\n",
       "      <th></th>\n",
       "      <th></th>\n",
       "      <th></th>\n",
       "      <th></th>\n",
       "      <th></th>\n",
       "    </tr>\n",
       "  </thead>\n",
       "  <tbody>\n",
       "    <tr>\n",
       "      <th>0007ab33db57473ef415936ecdd465f12cc7ba96</th>\n",
       "      <td>4</td>\n",
       "      <td>78</td>\n",
       "      <td>233.990367</td>\n",
       "      <td>1</td>\n",
       "      <td>2</td>\n",
       "      <td>2</td>\n",
       "      <td>122</td>\n",
       "      <td>5</td>\n",
       "      <td>Potential Loyalist</td>\n",
       "    </tr>\n",
       "    <tr>\n",
       "      <th>0008c0db50d29ee13e41c17e3ad367724fa29560</th>\n",
       "      <td>19</td>\n",
       "      <td>45</td>\n",
       "      <td>134.994317</td>\n",
       "      <td>3</td>\n",
       "      <td>3</td>\n",
       "      <td>3</td>\n",
       "      <td>333</td>\n",
       "      <td>9</td>\n",
       "      <td>Hibernating</td>\n",
       "    </tr>\n",
       "    <tr>\n",
       "      <th>000a9e393432b442d6f2d2db15f46c4fc9af575d</th>\n",
       "      <td>0</td>\n",
       "      <td>113</td>\n",
       "      <td>338.986296</td>\n",
       "      <td>1</td>\n",
       "      <td>2</td>\n",
       "      <td>2</td>\n",
       "      <td>122</td>\n",
       "      <td>5</td>\n",
       "      <td>Potential Loyalist</td>\n",
       "    </tr>\n",
       "    <tr>\n",
       "      <th>000f5bcec31b791f88c9f3277ae87b89bccdd8a2</th>\n",
       "      <td>2</td>\n",
       "      <td>122</td>\n",
       "      <td>365.985046</td>\n",
       "      <td>1</td>\n",
       "      <td>1</td>\n",
       "      <td>1</td>\n",
       "      <td>111</td>\n",
       "      <td>3</td>\n",
       "      <td>Champions</td>\n",
       "    </tr>\n",
       "    <tr>\n",
       "      <th>00104cad780d4a8c33127f5be5c6c9a56985fab7</th>\n",
       "      <td>16</td>\n",
       "      <td>40</td>\n",
       "      <td>119.995083</td>\n",
       "      <td>3</td>\n",
       "      <td>3</td>\n",
       "      <td>3</td>\n",
       "      <td>333</td>\n",
       "      <td>9</td>\n",
       "      <td>Hibernating</td>\n",
       "    </tr>\n",
       "  </tbody>\n",
       "</table>\n",
       "</div>"
      ],
      "text/plain": [
       "                                          Recency  Frequency    Monetary  \\\n",
       "user_id_hash                                                               \n",
       "0007ab33db57473ef415936ecdd465f12cc7ba96        4         78  233.990367   \n",
       "0008c0db50d29ee13e41c17e3ad367724fa29560       19         45  134.994317   \n",
       "000a9e393432b442d6f2d2db15f46c4fc9af575d        0        113  338.986296   \n",
       "000f5bcec31b791f88c9f3277ae87b89bccdd8a2        2        122  365.985046   \n",
       "00104cad780d4a8c33127f5be5c6c9a56985fab7       16         40  119.995083   \n",
       "\n",
       "                                          R_Quartile  F_Quartile  M_Quartile  \\\n",
       "user_id_hash                                                                   \n",
       "0007ab33db57473ef415936ecdd465f12cc7ba96           1           2           2   \n",
       "0008c0db50d29ee13e41c17e3ad367724fa29560           3           3           3   \n",
       "000a9e393432b442d6f2d2db15f46c4fc9af575d           1           2           2   \n",
       "000f5bcec31b791f88c9f3277ae87b89bccdd8a2           1           1           1   \n",
       "00104cad780d4a8c33127f5be5c6c9a56985fab7           3           3           3   \n",
       "\n",
       "                                         RFM_segmentation  RFM_score  \\\n",
       "user_id_hash                                                           \n",
       "0007ab33db57473ef415936ecdd465f12cc7ba96              122          5   \n",
       "0008c0db50d29ee13e41c17e3ad367724fa29560              333          9   \n",
       "000a9e393432b442d6f2d2db15f46c4fc9af575d              122          5   \n",
       "000f5bcec31b791f88c9f3277ae87b89bccdd8a2              111          3   \n",
       "00104cad780d4a8c33127f5be5c6c9a56985fab7              333          9   \n",
       "\n",
       "                                                   RFM_label  \n",
       "user_id_hash                                                  \n",
       "0007ab33db57473ef415936ecdd465f12cc7ba96  Potential Loyalist  \n",
       "0008c0db50d29ee13e41c17e3ad367724fa29560         Hibernating  \n",
       "000a9e393432b442d6f2d2db15f46c4fc9af575d  Potential Loyalist  \n",
       "000f5bcec31b791f88c9f3277ae87b89bccdd8a2           Champions  \n",
       "00104cad780d4a8c33127f5be5c6c9a56985fab7         Hibernating  "
      ]
     },
     "execution_count": 209,
     "metadata": {},
     "output_type": "execute_result"
    }
   ],
   "source": [
    "RFM_weighted['RFM_label'] = RFM_weighted.apply(RFM_label, axis=1)\n",
    "RFM_weighted.head()"
   ]
  },
  {
   "cell_type": "code",
   "execution_count": 210,
   "metadata": {},
   "outputs": [
    {
     "name": "stdout",
     "output_type": "stream",
     "text": [
      "                   Recency Frequency Monetary      \n",
      "                      mean      mean     mean count\n",
      "RFM_label                                          \n",
      "About To Sleep         9.8      66.5    199.4  1184\n",
      "Can’t Lose Them       16.1      64.5    193.6  1227\n",
      "Champions              1.9     129.6    388.7   606\n",
      "Hibernating            9.7      29.7     89.2  1248\n",
      "Lost                  17.8      22.3     66.9  2467\n",
      "Loyal Customers       11.2     129.9    389.8   737\n",
      "Potential Loyalist     8.6     105.7    317.2  1178\n",
      "Promising             16.2     107.0    321.1  1243\n"
     ]
    }
   ],
   "source": [
    "RFM_desc = RFM_weighted.groupby('RFM_label').agg({\n",
    "    'Recency': 'mean',\n",
    "    'Frequency': 'mean',\n",
    "    'Monetary': ['mean', 'count']\n",
    "}).round(1)\n",
    "print(RFM_desc)"
   ]
  },
  {
   "cell_type": "code",
   "execution_count": 214,
   "metadata": {},
   "outputs": [
    {
     "data": {
      "image/png": "[encoded data removed]",
      "text/plain": [
       "<Figure size 1600x900 with 1 Axes>"
      ]
     },
     "metadata": {},
     "output_type": "display_data"
    }
   ],
   "source": [
    "fig = plt.gcf()\n",
    "ax = fig.add_subplot()\n",
    "fig.set_size_inches(16, 9)\n",
    "RFM_desc.columns = ['RecencyMean','FrequencyMean','MonetaryMean', 'Count']\n",
    "squarify.plot(sizes=RFM_desc['Count'], \n",
    "              label=['Lost',\n",
    "                     'Hibernating',\n",
    "                     'Can’t Lose Them',\n",
    "                     'About To Sleep',\n",
    "                     'Promising', \n",
    "                     'Potential Loyalist', \n",
    "                     'Loyal Customers',\n",
    "                     'Champions'], alpha=.9 )\n",
    "plt.title(\"RFM Segments\",fontsize=18,fontweight=\"bold\")\n",
    "plt.axis('off')\n",
    "plt.show()"
   ]
  }
 ],
 "metadata": {
  "kernelspec": {
   "display_name": "Python 3",
   "language": "python",
   "name": "python3"
  },
  "language_info": {
   "codemirror_mode": {
    "name": "ipython",
    "version": 3
   },
   "file_extension": ".py",
   "mimetype": "text/x-python",
   "name": "python",
   "nbconvert_exporter": "python",
   "pygments_lexer": "ipython3",
   "version": "3.9.12 (main, Mar 26 2022, 15:45:34) \n[Clang 13.0.0 (clang-1300.0.29.30)]"
  },
  "orig_nbformat": 4,
  "vscode": {
   "interpreter": {
    "hash": "b0fa6594d8f4cbf19f97940f81e996739fb7646882a419484c72d19e05852a7e"
   }
  }
 },
 "nbformat": 4,
 "nbformat_minor": 2
}
